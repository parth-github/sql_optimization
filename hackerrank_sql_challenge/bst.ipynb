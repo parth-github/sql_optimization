{
 "cells": [
  {
   "cell_type": "code",
   "execution_count": null,
   "metadata": {},
   "outputs": [],
   "source": [
    "select N,\n",
    "    case when P is null then 'Root'\n",
    "        when N not in (select distinct P from bst where P is not null) then 'Leaf'\n",
    "        else 'Inner'\n",
    "    end output\n",
    "from bst\n",
    "order by 1;"
   ]
  }
 ],
 "metadata": {
  "language_info": {
   "name": "python"
  },
  "orig_nbformat": 4
 },
 "nbformat": 4,
 "nbformat_minor": 2
}
