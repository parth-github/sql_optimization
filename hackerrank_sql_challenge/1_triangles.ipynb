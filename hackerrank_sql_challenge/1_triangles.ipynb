{
 "cells": [
  {
   "cell_type": "code",
   "execution_count": null,
   "metadata": {},
   "outputs": [],
   "source": [
    "Write a query identifying the type of each record in the TRIANGLES table using its three side lengths. Output one of the following statements for each record in the table:\n",
    "\n",
    "Equilateral: It's a triangle with  sides of equal length.\n",
    "Isosceles: It's a triangle with  sides of equal length.\n",
    "Scalene: It's a triangle with  sides of differing lengths.\n",
    "Not A Triangle: The given values of A, B, and C don't form a triangle.\n",
    "Input Format\n",
    "\n",
    "The TRIANGLES table is described as follows:\n",
    "\n",
    "\n",
    "\n",
    "Each row in the table denotes the lengths of each of a triangle's three sides.\n",
    "\n",
    "Sample Input\n",
    "\n",
    "\n",
    "\n",
    "Sample Output\n",
    "\n",
    "Isosceles\n",
    "Equilateral\n",
    "Scalene\n",
    "Not A Triangle\n",
    "Explanation\n",
    "\n",
    "Values in the tuple  form an Isosceles triangle, because .\n",
    "Values in the tuple  form an Equilateral triangle, because . Values in the tuple  form a Scalene triangle, because .\n",
    "Values in the tuple  cannot form a triangle because the combined value of sides  and  is not larger than that of side ."
   ]
  },
  {
   "cell_type": "code",
   "execution_count": null,
   "metadata": {
    "vscode": {
     "languageId": "sql"
    }
   },
   "outputs": [],
   "source": [
    "select case\n",
    "when a + b > c and b + c > a and c + a > b then\n",
    "    case \n",
    "    when a = b and a = c then 'Equilateral'\n",
    "    when a = b or b = c or c = a then 'Isosceles'\n",
    "    else 'Scalene'\n",
    "    end\n",
    "else 'Not A Triangle'\n",
    "end \n",
    "from triangles;"
   ]
  },
  {
   "cell_type": "markdown",
   "metadata": {},
   "source": [
    "Generate the following two result sets:\n",
    "\n",
    "Query an alphabetically ordered list of all names in OCCUPATIONS, immediately followed by the first letter of each profession as a parenthetical (i.e.: enclosed in parentheses). For example: AnActorName(A), ADoctorName(D), AProfessorName(P), and ASingerName(S).\n",
    "Query the number of ocurrences of each occupation in OCCUPATIONS. Sort the occurrences in ascending order, and output them in the following format:\n",
    "\n",
    "There are a total of [occupation_count] [occupation]s.\n",
    "where [occupation_count] is the number of occurrences of an occupation in OCCUPATIONS and [occupation] is the lowercase occupation name. If more than one Occupation has the same [occupation_count], they should be ordered alphabetically.\n",
    "\n",
    "Note: There will be at least two entries in the table for each type of occupation.\n",
    "\n",
    "Input Format\n",
    "\n",
    "The OCCUPATIONS table is described as follows:Occupation will only contain one of the following values: Doctor, Professor, Singer or Actor.\n",
    "\n",
    "Sample Input\n",
    "\n",
    "An OCCUPATIONS table that contains the following records:\n",
    "\n",
    "\n",
    "\n",
    "Sample Output\n",
    "\n",
    "Ashely(P)\n",
    "Christeen(P)\n",
    "Jane(A)\n",
    "Jenny(D)\n",
    "Julia(A)\n",
    "Ketty(P)\n",
    "Maria(A)\n",
    "Meera(S)\n",
    "Priya(S)\n",
    "Samantha(D)\n",
    "There are a total of 2 doctors.\n",
    "There are a total of 2 singers.\n",
    "There are a total of 3 actors.\n",
    "There are a total of 3 professors."
   ]
  },
  {
   "cell_type": "markdown",
   "metadata": {},
   "source": [
    "select concat(name,'(', left(occupation,1), ')')\n",
    "from OCCUPATIONS\n",
    "order by name;\n",
    "\n",
    "select concat('There are a total of ', occ_count,' ', lower(occ), 's.' )\n",
    "from (\n",
    "    select occupation occ, count(occupation) occ_count\n",
    "    from OCCUPATIONS\n",
    "    group by 1\n",
    "    order by 2,1\n",
    ") x;"
   ]
  },
  {
   "cell_type": "markdown",
   "metadata": {},
   "source": []
  },
  {
   "cell_type": "code",
   "execution_count": null,
   "metadata": {
    "vscode": {
     "languageId": "sql"
    }
   },
   "outputs": [],
   "source": []
  }
 ],
 "metadata": {
  "language_info": {
   "name": "python"
  },
  "orig_nbformat": 4
 },
 "nbformat": 4,
 "nbformat_minor": 2
}
