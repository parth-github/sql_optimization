{
 "cells": [
  {
   "cell_type": "code",
   "execution_count": null,
   "metadata": {},
   "outputs": [],
   "source": [
    "with t5 as (\n",
    "select name, occupation,\n",
    "    row_number() over(partition by occupation order by name) row_id\n",
    "    from occupations),\n",
    "t1 as (\n",
    "    select name, row_id\n",
    "    from t5\n",
    "    where t5.occupation = 'Doctor'),\n",
    "t2 as (\n",
    "    select name, row_id\n",
    "    from t5\n",
    "    where t5.occupation = 'Professor'),\n",
    "t3 as (\n",
    "    select name, row_id\n",
    "    from t5\n",
    "    where t5.occupation = 'Singer'),\n",
    "t4 as (\n",
    "    select name, row_id\n",
    "    from t5\n",
    "    where t5.occupation = 'Actor')\n",
    "\n",
    "select coalesce(t1.name, 'NULL'), coalesce(t2.name, 'NULL'), coalesce(t3.name, 'NULL'), coalesce(t4.name, 'NULL')\n",
    "from t1 \n",
    "full outer join t2 on t1.row_id = t2.row_id\n",
    "full outer join t3 on t3.row_id = t2.row_id\n",
    "full outer join t4 on t4.row_id = t3.row_id;"
   ]
  },
  {
   "cell_type": "markdown",
   "metadata": {},
   "source": [
    "Pivot the Occupation column in OCCUPATIONS so that each Name is sorted alphabetically and displayed underneath its corresponding Occupation. The output column headers should be Doctor, Professor, Singer, and Actor, respectively.\n",
    "\n",
    "Note: Print NULL when there are no more names corresponding to an occupation.\n",
    "\n",
    "Input Format\n",
    "\n",
    "The OCCUPATIONS table is described as follows:\n",
    "\n",
    "\n",
    "\n",
    "Occupation will only contain one of the following values: Doctor, Professor, Singer or Actor.\n",
    "\n",
    "Sample Input\n",
    "\n",
    "\n",
    "\n",
    "Sample Output\n",
    "\n",
    "Jenny    Ashley     Meera  Jane\n",
    "Samantha Christeen  Priya  Julia\n",
    "NULL     Ketty      NULL   Maria\n",
    "Explanation\n",
    "\n",
    "The first column is an alphabetically ordered list of Doctor names.\n",
    "The second column is an alphabetically ordered list of Professor names.\n",
    "The third column is an alphabetically ordered list of Singer names.\n",
    "The fourth column is an alphabetically ordered list of Actor names.\n",
    "The empty cell data for columns with less than the maximum number of names per occupation (in this case, the Professor and Actor columns) are filled with NULL values."
   ]
  },
  {
   "cell_type": "code",
   "execution_count": null,
   "metadata": {
    "vscode": {
     "languageId": "sql"
    }
   },
   "outputs": [],
   "source": [
    "with professions as (\n",
    "    select\n",
    "    case when occupation='Doctor' then name end doctor,\n",
    "    case when occupation='Professor' then name end professor,\n",
    "    case when occupation='Singer' then name end singer,\n",
    "    case when occupation='Actor' then name end actor,\n",
    "    row_number() over(partition by occupation order by name) row_id \n",
    "    from occupations\n",
    ")\n",
    "select coalesce(min(doctor), 'NULL'), coalesce(min(professor), 'NULL'), coalesce(min(singer), 'NULL'), coalesce(min(actor), 'NULL') \n",
    "from professions p\n",
    "group by row_id;"
   ]
  }
 ],
 "metadata": {
  "language_info": {
   "name": "python"
  },
  "orig_nbformat": 4
 },
 "nbformat": 4,
 "nbformat_minor": 2
}
