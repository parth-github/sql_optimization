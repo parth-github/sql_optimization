{
 "cells": [
  {
   "cell_type": "code",
   "execution_count": null,
   "metadata": {
    "vscode": {
     "languageId": "sql"
    }
   },
   "outputs": [],
   "source": [
    "select cc, fn, count(distinct lmgr), count(distinct smgr), count(distinct mgr), count(distinct emp)\n",
    "from (\n",
    "select co.company_code cc, co.founder fn, lm.lead_manager_code lmgr, sm.senior_manager_code smgr, m.manager_code mgr, e.employee_code emp\n",
    "from company co\n",
    "    join lead_manager lm on lm.company_code = co.company_code\n",
    "    join senior_manager sm on sm.company_code = co.company_code \n",
    "    join manager m on m.company_code = co.company_code\n",
    "    join employee e on e.company_code = co.company_code\n",
    ") sub\n",
    "group by cc, fn\n",
    "order by cast(substr(cc,2) as int);\n"
   ]
  },
  {
   "cell_type": "code",
   "execution_count": null,
   "metadata": {
    "vscode": {
     "languageId": "sql"
    }
   },
   "outputs": [],
   "source": [
    "select avg(salary) -\n",
    "    avg(cast(replace(cast(salary as varchar(6)), '0', '') as int))\n",
    "from employees;"
   ]
  },
  {
   "cell_type": "code",
   "execution_count": null,
   "metadata": {
    "vscode": {
     "languageId": "sql"
    }
   },
   "outputs": [],
   "source": [
    "select round(avg(salary) -\n",
    "    avg(replace(salary, '0', '')), 0)\n",
    "from employees;"
   ]
  },
  {
   "cell_type": "code",
   "execution_count": null,
   "metadata": {
    "vscode": {
     "languageId": "sql"
    }
   },
   "outputs": [],
   "source": [
    "select t5.max_earnings, t4.count_max_earnings\n",
    "from\n",
    "(select max(earnings) max_earnings \n",
    "        from \n",
    "        (select employee_id, months * salary earnings from employee)) t5,\n",
    "(select count(*) count_max_earnings\n",
    "    from\n",
    "        (select t1.employee_id id,  t1.earnings e, t2.max_earnings me\n",
    "        from\n",
    "        (select employee_id, months * salary earnings from employee) t1,\n",
    "        (select max(earnings) max_earnings \n",
    "            from \n",
    "            (select employee_id, months * salary earnings from employee)) t2) t3\n",
    "    where t3.e = t3.me) t4;"
   ]
  },
  {
   "cell_type": "code",
   "execution_count": null,
   "metadata": {
    "vscode": {
     "languageId": "sql"
    }
   },
   "outputs": [],
   "source": [
    "/**\n",
    "Calculating Manhattan Distance between two points in latitude, longitude\n",
    "**/\n",
    "select round(abs(max(lat_n) - min(lat_n)) + abs(max(long_w) - min(long_w)), 4)\n",
    "from station\n"
   ]
  },
  {
   "cell_type": "code",
   "execution_count": null,
   "metadata": {
    "vscode": {
     "languageId": "sql"
    }
   },
   "outputs": [],
   "source": []
  },
  {
   "cell_type": "code",
   "execution_count": null,
   "metadata": {
    "vscode": {
     "languageId": "sql"
    }
   },
   "outputs": [],
   "source": [
    "/** calculate median value **/\n",
    "select round(lat_n, 4)\n",
    "from \n",
    "    (select lat_n, row_number() over(order by lat_n) row_id\n",
    "    from station) x\n",
    "where x.row_id = (select ceiling(count(lat_n)/2)\n",
    "from station);"
   ]
  },
  {
   "cell_type": "code",
   "execution_count": null,
   "metadata": {
    "vscode": {
     "languageId": "sql"
    }
   },
   "outputs": [],
   "source": [
    "select sum(ci.population)\n",
    "from city ci\n",
    "    join country co on co.code = ci.countrycode\n",
    "where co.continent = 'Asia';"
   ]
  },
  {
   "cell_type": "code",
   "execution_count": null,
   "metadata": {
    "vscode": {
     "languageId": "sql"
    }
   },
   "outputs": [],
   "source": [
    "select id, name\n",
    "from     \n",
    "    (select su.hacker_id id, hk.name name, su.challenge_id ch_id, ch.difficulty_level, df.score max_score, su.score obtained_score\n",
    "    from submissions su\n",
    "        join challenges ch on ch.challenge_id = su.challenge_id\n",
    "        join difficulty df on df.difficulty_level = ch.difficulty_level\n",
    "        join hackers hk on hk.hacker_id = su.hacker_id\n",
    "    where df.score = su.score) x\n",
    "group by 1,2\n",
    "having count(id) > 1\n",
    "order by count(ch_id) desc, id asc;"
   ]
  },
  {
   "cell_type": "code",
   "execution_count": null,
   "metadata": {
    "vscode": {
     "languageId": "sql"
    }
   },
   "outputs": [],
   "source": [
    "/** Ollivander's Inventory **/\n",
    "\n",
    "select y.id, x.age, y.coins_needed, x.power\n",
    "from \n",
    "    (select age, power, min(w.coins_needed) min_coins\n",
    "    from wands w\n",
    "        join wands_property wp on w.code = wp.code\n",
    "    where is_evil = 0\n",
    "    group by age, power) x\n",
    "    join \n",
    "    (select id, age, coins_needed, power\n",
    "    from \n",
    "        wands w\n",
    "        join wands_property wp on w.code = wp.code\n",
    "    where is_evil = 0\n",
    "    ) y\n",
    "    on x.age = y.age and x.power = x.power\n",
    "where y.coins_needed = x.min_coins\n",
    "order by x.power desc, x.age desc;"
   ]
  }
 ],
 "metadata": {
  "language_info": {
   "name": "python"
  },
  "orig_nbformat": 4
 },
 "nbformat": 4,
 "nbformat_minor": 2
}
