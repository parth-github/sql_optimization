{
 "cells": [
  {
   "cell_type": "markdown",
   "metadata": {},
   "source": [
    "## Questions: CASE\n",
    "Use the SQL environment below to assist with answering the following questions. Whether you get stuck or you just want to double check your solutions, my answers can be found at the top of the next concept.\n",
    "\n",
    "![schema](parch-and-posey-schema.png)\n",
    "\n",
    "1. Write a query to display for each order, the account ID, total amount of the order, and the level of the order - ‘Large’ or ’Small’ - depending on if the order is $3000 or more, or smaller than $3000.\n"
   ]
  },
  {
   "cell_type": "code",
   "execution_count": null,
   "metadata": {
    "vscode": {
     "languageId": "sql"
    }
   },
   "outputs": [],
   "source": [
    "SELECT account_id, total_amt_usd,\n",
    "CASE WHEN total_amt_usd > 3000 THEN 'Large'\n",
    "ELSE 'Small' END AS order_level\n",
    "FROM orders;"
   ]
  },
  {
   "cell_type": "markdown",
   "metadata": {},
   "source": [
    "\n",
    "2. Write a query to display the number of orders in each of three categories, based on the total number of items in each order. The three categories are: 'At Least 2000', 'Between 1000 and 2000' and 'Less than 1000'.\n"
   ]
  },
  {
   "cell_type": "code",
   "execution_count": null,
   "metadata": {
    "vscode": {
     "languageId": "sql"
    }
   },
   "outputs": [],
   "source": [
    "SELECT CASE WHEN total >= 2000 THEN 'At Least 2000'\n",
    "   WHEN total >= 1000 AND total < 2000 THEN 'Between 1000 and 2000'\n",
    "   ELSE 'Less than 1000' END AS order_category,\n",
    "COUNT(*) AS order_count\n",
    "FROM orders\n",
    "GROUP BY 1;"
   ]
  },
  {
   "cell_type": "markdown",
   "metadata": {},
   "source": [
    "\n",
    "3. We would like to understand 3 different levels of customers based on the amount associated with their purchases. The top level includes anyone with a Lifetime Value (total sales of all orders) greater than 200,000 usd. The second level is between 200,000 and 100,000 usd. The lowest level is anyone under 100,000 usd. Provide a table that includes the level associated with each account. You should provide the account name, the total sales of all orders for the customer, and the level. Order with the top spending customers listed first.\n"
   ]
  },
  {
   "cell_type": "code",
   "execution_count": null,
   "metadata": {
    "vscode": {
     "languageId": "sql"
    }
   },
   "outputs": [],
   "source": [
    "SELECT a.name, SUM(total_amt_usd) total_spent, \n",
    "     CASE WHEN SUM(total_amt_usd) > 200000 THEN 'top'\n",
    "     WHEN  SUM(total_amt_usd) > 100000 THEN 'middle'\n",
    "     ELSE 'low' END AS customer_level\n",
    "FROM orders o\n",
    "JOIN accounts a\n",
    "ON o.account_id = a.id \n",
    "GROUP BY a.name\n",
    "ORDER BY 2 DESC;"
   ]
  },
  {
   "cell_type": "markdown",
   "metadata": {},
   "source": [
    "\n",
    "\n",
    "4. We would now like to perform a similar calculation to the first, but we want to obtain the total amount spent by customers only in 2016 and 2017. Keep the same levels as in the previous question. Order with the top spending customers listed first.\n"
   ]
  },
  {
   "cell_type": "code",
   "execution_count": null,
   "metadata": {
    "vscode": {
     "languageId": "sql"
    }
   },
   "outputs": [],
   "source": [
    "select a.name, sum(o.total_amt_usd),\n",
    "case\n",
    "\twhen sum(o.total_amt_usd) > 200000 then 'Larger'\n",
    "    when sum(o.total_amt_usd) > 100000 and sum(o.total_amt_usd) < 200000 then 'Medium'\n",
    "    else 'smaller'\n",
    "end clevel\n",
    "from accounts a\n",
    "\tjoin orders o\n",
    "    \ton o.account_id = a.id\n",
    "where extract(year from occurred_at) in (2016, 2017)\n",
    "group by 1\n",
    "order by 2 desc;"
   ]
  },
  {
   "cell_type": "markdown",
   "metadata": {},
   "source": [
    "|id\t|sum\t|clevel|\n",
    "|---|-------|------|\n",
    "|4251|\t255319.18|\tLarger|\n",
    "|4151|\t172180.04|\tMedium|\n",
    "1831\t163471.78\tMedium\n",
    "4161\t148105.93\tMedium\n",
    "1521\t129157.38\tMedium\n",
    "2911\t121873.16\tMedium\n",
    "2101\t114003.21"
   ]
  },
  {
   "cell_type": "markdown",
   "metadata": {},
   "source": [
    "5. We would like to identify top performing sales reps, which are sales reps associated with more than 200 orders. Create a table with the sales rep name, the total number of orders, and a column with top or not depending on if they have more than 200 orders. Place the top sales people first in your final table."
   ]
  },
  {
   "cell_type": "code",
   "execution_count": null,
   "metadata": {
    "vscode": {
     "languageId": "sql"
    }
   },
   "outputs": [],
   "source": [
    "select s.name, count(o.id) num_of_orders,\n",
    "\tcase\n",
    "    \twhen count(o.id) > 200 then 'top'\n",
    "        else 'not'\n",
    "    end performance\n",
    "from sales_reps s\n",
    "\tjoin accounts a on a.sales_rep_id = s.id\n",
    "    join orders o on o.account_id = a.id\n",
    "group by 1\n",
    "order by 2 desc;\n"
   ]
  },
  {
   "cell_type": "markdown",
   "metadata": {},
   "source": [
    "name\tnum_of_orders\tperformance\n",
    "Earlie Schleusner\t335\ttop\n",
    "Vernita Plump\t299\ttop\n",
    "Tia Amato\t267\ttop\n",
    "Georgianna Chisholm\t256\ttop\n",
    "Moon Torian\t250\ttop"
   ]
  },
  {
   "cell_type": "markdown",
   "metadata": {},
   "source": [
    "\n",
    "6. The previous didn't account for the middle, nor the dollar amount associated with the sales. Management decides they want to see these characteristics represented as well. We would like to identify top performing sales reps, which are sales reps associated with more than 200 orders or more than 750000 in total sales. The middle group has any rep with more than 150 orders or 500000 in sales. Create a table with the sales rep name, the total number of orders, total sales across all orders, and a column with top, middle, or low depending on this criteria. Place the top sales people based on dollar amount of sales first in your final table. You might see a few upset sales people by this criteria!\n",
    "\n"
   ]
  },
  {
   "cell_type": "code",
   "execution_count": null,
   "metadata": {
    "vscode": {
     "languageId": "sql"
    }
   },
   "outputs": [],
   "source": [
    "select s.name, count(o.id) num_of_orders, sum(total_amt_usd) total_sales,\n",
    "\tcase\n",
    "    \twhen count(o.id) >= 200 or sum(total_amt_usd) >= 750000 then 'top'\n",
    "        when (count(o.id) between 150 and 199) or (sum(total_amt_usd) >= 500000) then 'middle'\n",
    "        else 'low'\n",
    "    end performance\n",
    "from sales_reps s\n",
    "\tjoin accounts a on a.sales_rep_id = s.id\n",
    "    join orders o on o.account_id = a.id\n",
    "group by 1\n",
    "order by 3 desc;\n"
   ]
  },
  {
   "cell_type": "markdown",
   "metadata": {},
   "source": [
    "Output50 results\n",
    "name\tnum_of_orders\ttotal_sales\tperformance\n",
    "Earlie Schleusner\t335\t1098137.72\ttop\n",
    "Tia Amato\t267\t1010690.60\ttop"
   ]
  }
 ],
 "metadata": {
  "kernelspec": {
   "display_name": ".venv",
   "language": "python",
   "name": "python3"
  },
  "language_info": {
   "codemirror_mode": {
    "name": "ipython",
    "version": 3
   },
   "file_extension": ".py",
   "mimetype": "text/x-python",
   "name": "python",
   "nbconvert_exporter": "python",
   "pygments_lexer": "ipython3",
   "version": "3.10.2"
  },
  "orig_nbformat": 4
 },
 "nbformat": 4,
 "nbformat_minor": 2
}
