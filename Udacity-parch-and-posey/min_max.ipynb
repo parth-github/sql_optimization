{
 "cells": [
  {
   "cell_type": "code",
   "execution_count": null,
   "metadata": {},
   "outputs": [],
   "source": [
    "Solutions: MIN, MAX, and AVERAGE\n",
    "When was the earliest order ever placed?\n",
    "SELECT MIN(occurred_at) \n",
    "FROM orders;\n",
    "Try performing the same query as in question 1 without using an aggregation function.\n",
    "\n",
    "SELECT occurred_at \n",
    "FROM orders \n",
    "ORDER BY occurred_at\n",
    "LIMIT 1;\n",
    "When did the most recent (latest) web_event occur?\n",
    "SELECT MAX(occurred_at)\n",
    "FROM web_events;\n",
    "Try to perform the result of the previous query without using an aggregation function.\n",
    "SELECT occurred_at\n",
    "FROM web_events\n",
    "ORDER BY occurred_at DESC\n",
    "LIMIT 1;\n",
    "Find the mean (AVERAGE) amount spent per order on each paper type, as well as the mean amount of each paper type purchased per order. Your final answer should have 6 values - one for each paper type for the average number of sales, as well as the average amount.\n",
    "SELECT AVG(standard_qty) mean_standard, AVG(gloss_qty) mean_gloss, \n",
    "           AVG(poster_qty) mean_poster, AVG(standard_amt_usd) mean_standard_usd, \n",
    "           AVG(gloss_amt_usd) mean_gloss_usd, AVG(poster_amt_usd) mean_poster_usd\n",
    "FROM orders;\n",
    "Via the video, you might be interested in how to calculate the MEDIAN. Though this is more advanced than what we have covered so far try finding - what is the MEDIAN total_usd spent on all orders? Note, this is more advanced than the topics we have covered thus far to build a general solution, but we can hard code a solution in the following way.\n",
    "SELECT *\n",
    "FROM (SELECT total_amt_usd\n",
    "      FROM orders\n",
    "      ORDER BY total_amt_usd\n",
    "      LIMIT 3457) AS Table1\n",
    "ORDER BY total_amt_usd DESC\n",
    "LIMIT 2;\n",
    "Since there are 6912 orders - we want the average of the 3457 and 3456 order amounts when ordered. This is the average of 2483.16 and 2482.55. This gives the median of 2482.855. This obviously isn't an ideal way to compute. If we obtain new orders, we would have to change the limit. SQL didn't even calculate the median for us. The above used a SUBQUERY, but you could use any method to find the two necessary values, and then you just need the average of them."
   ]
  }
 ],
 "metadata": {
  "language_info": {
   "name": "python"
  },
  "orig_nbformat": 4
 },
 "nbformat": 4,
 "nbformat_minor": 2
}
