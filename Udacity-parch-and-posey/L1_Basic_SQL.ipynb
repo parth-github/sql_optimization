{
 "cells": [
  {
   "cell_type": "markdown",
   "metadata": {},
   "source": [
    "Let's get some practice using ORDER BY:\n",
    "\n",
    "Write a query to return the 10 earliest orders in the orders table. Include the id, occurred_at, and total_amt_usd.\n",
    "\n",
    "\n",
    "Write a query to return the top 5 orders in terms of largest total_amt_usd. Include the id, account_id, and total_amt_usd.\n",
    "\n",
    "\n",
    "Write a query to return the lowest 20 orders in terms of smallest total_amt_usd. Include the id, account_id, and total_amt_usd.\n",
    "\n",
    "\n",
    "Remember, just because a query successfully runs, does not mean you have the correct results. To see if your query worked like you wanted it to, you need to examine your output to see if it satisfies the problem or the question. You can also compare your query and results with the solution on the following page (concept).\n",
    "\n"
   ]
  },
  {
   "cell_type": "code",
   "execution_count": null,
   "metadata": {
    "vscode": {
     "languageId": "sql"
    }
   },
   "outputs": [],
   "source": [
    "--Write a query to return the 10 earliest orders in the orders table. Include the id, occurred_at, and total_amt_usd.\n",
    "\n",
    "SELECT id, occurred_at, total_amt_usd\n",
    "FROM orders\n",
    "ORDER BY occurred_at\n",
    "LIMIT 10;\n",
    "\n",
    "\n",
    "--Write a query to return the top 5 orders in terms of largest total_amt_usd. Include the id, account_id, and total_amt_usd.\n",
    "\n",
    "SELECT id, account_id, total_amt_usd\n",
    "FROM orders\n",
    "ORDER BY total_amt_usd DESC \n",
    "LIMIT 5;\n",
    "\n",
    "\n",
    "--Write a query to return the lowest 20 orders in terms of smallest total_amt_usd. Include the id, account_id, and total_amt_usd.\n",
    "\n",
    "SELECT id, account_id, total_amt_usd\n",
    "FROM orders\n",
    "ORDER BY total_amt_usd\n",
    "LIMIT 20;\n"
   ]
  },
  {
   "cell_type": "markdown",
   "metadata": {},
   "source": []
  },
  {
   "cell_type": "code",
   "execution_count": null,
   "metadata": {
    "vscode": {
     "languageId": "sql"
    }
   },
   "outputs": [],
   "source": [
    "Write a query that displays the order ID, account ID, and total dollar amount for all the orders, sorted first by the account ID (in ascending order), and then by the total dollar amount (in descending order).\n",
    "\n",
    "SELECT id, account_id, total_amt_usd\n",
    "FROM orders\n",
    "ORDER BY account_id, total_amt_usd DESC;\n",
    "Now write a query that again displays order ID, account ID, and total dollar amount for each order, but this time sorted first by total dollar amount (in descending order), and then by account ID (in ascending order).\n",
    "\n",
    "SELECT id, account_id, total_amt_usd\n",
    "FROM orders\n",
    "ORDER BY total_amt_usd DESC, account_id;\n",
    "Compare the results of these two queries above. How are the results different when you switch the column you sort on first?\n",
    "In query #1, all of the orders for each account ID are grouped together, and then within each of those groupings, the orders appear from the greatest order amount to the least. In query #2, since you sorted by the total dollar amount first, the orders appear from greatest to least regardless of which account ID they were from. Then they are sorted by account ID next. (The secondary sorting by account ID is difficult to see here, since only if there were two orders with equal total dollar amounts would there need to be any sorting by account ID.)\n",
    "\n"
   ]
  },
  {
   "cell_type": "markdown",
   "metadata": {},
   "source": [
    "Pulls the first 5 rows and all columns from the orders table that have a dollar amount of gloss_amt_usd greater than or equal to 1000.\n",
    "\n",
    "Pulls the first 10 rows and all columns from the orders table that have a total_amt_usd less than 500."
   ]
  },
  {
   "cell_type": "code",
   "execution_count": null,
   "metadata": {
    "vscode": {
     "languageId": "sql"
    }
   },
   "outputs": [],
   "source": [
    "SELECT *\n",
    "FROM orders\n",
    "WHERE gloss_amt_usd >= 1000\n",
    "LIMIT 5;\n",
    "\n",
    "SELECT *\n",
    "FROM orders\n",
    "WHERE total_amt_usd < 500\n",
    "LIMIT 10;"
   ]
  },
  {
   "cell_type": "markdown",
   "metadata": {},
   "source": [
    "Practice Question Using WHERE with Non-Numeric Data\n",
    "Filter the accounts table to include the company name, website, and the primary point of contact (primary_poc) just for the Exxon Mobil company in the accounts table."
   ]
  },
  {
   "cell_type": "code",
   "execution_count": null,
   "metadata": {
    "vscode": {
     "languageId": "sql"
    }
   },
   "outputs": [],
   "source": [
    "Solution from WHERE with Non-Numeric Data\n",
    "SELECT name, website, primary_poc\n",
    "FROM accounts\n",
    "WHERE name = 'Exxon Mobil';"
   ]
  },
  {
   "cell_type": "markdown",
   "metadata": {},
   "source": [
    "Questions using Arithmetic Operations\n",
    "Using the orders table:\n",
    "\n",
    "Create a column that divides the standard_amt_usd by the standard_qty to find the unit price for standard paper for each order. Limit the results to the first 10 orders, and include the id and account_id fields.\n",
    "\n",
    "Write a query that finds the percentage of revenue that comes from poster paper for each order. You will need to use only the columns that end with _usd. (Try to do this without using the total column.) Display the id and account_id fields also. NOTE - you will receive an error with the correct solution to this question. This occurs because at least one of the values in the data creates a division by zero in your formula. You will learn later in the course how to fully handle this issue. For now, you can just limit your calculations to the first 10 orders, as we did in question #1, and you'll avoid that set of data that causes the problem.\n",
    "\n",
    "\n",
    "Notice, the above operators combine information across columns for the same row. If you want to combine values of a particular column, across multiple rows, we will do this with aggregations. We will get to that before the end of the course!\n",
    "\n"
   ]
  },
  {
   "cell_type": "code",
   "execution_count": null,
   "metadata": {
    "vscode": {
     "languageId": "sql"
    }
   },
   "outputs": [],
   "source": [
    "Solutions to Arithmetic Operator Questions\n",
    "SELECT id, account_id, standard_amt_usd/standard_qty AS unit_price\n",
    "FROM orders\n",
    "LIMIT 10;\n",
    "SELECT id, account_id, \n",
    "   poster_amt_usd/(standard_amt_usd + gloss_amt_usd + poster_amt_usd) AS post_per\n",
    "FROM orders\n",
    "LIMIT 10;"
   ]
  },
  {
   "cell_type": "code",
   "execution_count": null,
   "metadata": {
    "vscode": {
     "languageId": "sql"
    }
   },
   "outputs": [],
   "source": [
    "Questions using the LIKE operator\n",
    "Use the accounts table to find\n",
    "\n",
    "All the companies whose names start with 'C'.\n",
    "\n",
    "All companies whose names contain the string 'one' somewhere in the name.\n",
    "\n",
    "All companies whose names end with 's'."
   ]
  },
  {
   "cell_type": "code",
   "execution_count": null,
   "metadata": {
    "vscode": {
     "languageId": "sql"
    }
   },
   "outputs": [],
   "source": [
    "Solutions for LIKE operator\n",
    "SELECT name\n",
    "FROM accounts\n",
    "WHERE name LIKE 'C%';\n",
    "SELECT name\n",
    "FROM accounts\n",
    "WHERE name LIKE '%one%';\n",
    "SELECT name\n",
    "FROM accounts\n",
    "WHERE name LIKE '%s';"
   ]
  },
  {
   "cell_type": "markdown",
   "metadata": {},
   "source": [
    "Questions using IN operator\n",
    "Use the accounts table to find the account name, primary_poc, and sales_rep_id for Walmart, Target, and Nordstrom.\n",
    "\n",
    "\n",
    "Use the web_events table to find all information regarding individuals who were contacted via the channel of organic or adwords.\n",
    "\n"
   ]
  },
  {
   "cell_type": "code",
   "execution_count": null,
   "metadata": {
    "vscode": {
     "languageId": "sql"
    }
   },
   "outputs": [],
   "source": [
    "SELECT name, primary_poc, sales_rep_id\n",
    "FROM accounts\n",
    "WHERE name IN ('Walmart', 'Target', 'Nordstrom');\n",
    "SELECT *\n",
    "FROM web_events\n",
    "WHERE channel IN ('organic', 'adwords');"
   ]
  },
  {
   "cell_type": "markdown",
   "metadata": {},
   "source": [
    "Questions using the NOT operator\n",
    "We can pull all of the rows that were excluded from the queries in the previous two concepts with our new operator.\n",
    "\n",
    "Use the accounts table to find the account name, primary poc, and sales rep id for all stores except Walmart, Target, and Nordstrom.\n",
    "\n",
    "Use the web_events table to find all information regarding individuals who were contacted via any method except using organic or adwords methods.\n",
    "Use the accounts table to find:\n",
    "\n",
    "All the companies whose names do not start with 'C'.\n",
    "\n",
    "All companies whose names do not contain the string 'one' somewhere in the name.\n",
    "\n",
    "All companies whose names do not end with 's'.\n"
   ]
  },
  {
   "cell_type": "code",
   "execution_count": null,
   "metadata": {
    "vscode": {
     "languageId": "sql"
    }
   },
   "outputs": [],
   "source": [
    "Solutions to NOT IN Questions\n",
    "SELECT name, primary_poc, sales_rep_id\n",
    "FROM accounts\n",
    "WHERE name NOT IN ('Walmart', 'Target', 'Nordstrom');\n",
    "SELECT *\n",
    "FROM web_events\n",
    "WHERE channel NOT IN ('organic', 'adwords');\n",
    "Solutions to NOT LIKE Questions\n",
    "SELECT name\n",
    "FROM accounts\n",
    "WHERE name NOT LIKE 'C%';\n",
    "SELECT name\n",
    "FROM accounts\n",
    "WHERE name NOT LIKE '%one%';\n",
    "SELECT name\n",
    "FROM accounts\n",
    "WHERE name NOT LIKE '%s';"
   ]
  },
  {
   "cell_type": "markdown",
   "metadata": {},
   "source": [
    "Questions using AND and BETWEEN operators\n",
    "Write a query that returns all the orders where the standard_qty is over 1000, the poster_qty is 0, and the gloss_qty is 0.\n",
    "\n",
    "Using the accounts table, find all the companies whose names do not start with 'C' and end with 's'.\n",
    "\n",
    "When you use the BETWEEN operator in SQL, do the results include the values of your endpoints, or not? Figure out the answer to this important question by writing a query that displays the order date and gloss_qty data for all orders where gloss_qty is between 24 and 29. Then look at your output to see if the BETWEEN operator included the begin and end values or not.\n",
    "\n",
    "Use the web_events table to find all information regarding individuals who were contacted via the organic or adwords channels, and started their account at any point in 2016, sorted from newest to oldest.\n"
   ]
  },
  {
   "cell_type": "code",
   "execution_count": null,
   "metadata": {
    "vscode": {
     "languageId": "sql"
    }
   },
   "outputs": [],
   "source": [
    "Solutions to AND and BETWEEN Questions\n",
    "Write a query that returns all the orders where the standard_qty is over 1000, the poster_qty is 0, and the gloss_qty is 0.\n",
    "SELECT *\n",
    "FROM orders\n",
    "WHERE standard_qty > 1000 AND poster_qty = 0 AND gloss_qty = 0;\n",
    "Using the accounts table, find all the companies whose names do not start with 'C' and end with 's'.\n",
    "SELECT name\n",
    "FROM accounts\n",
    "WHERE name NOT LIKE 'C%' AND name LIKE '%s';\n",
    "When you use the BETWEEN operator in SQL, do the results include the values of your endpoints, or not? Figure out the answer to this important question by writing a query that displays the order date and gloss_qty data for all orders where gloss_qty is between 24 and 29. Then look at your output to see if the BETWEEN operator included the begin and end values or not.\n",
    "SELECT occurred_at, gloss_qty \n",
    "FROM orders\n",
    "WHERE gloss_qty BETWEEN 24 AND 29;\n",
    "You should notice that there are a number of rows in the output of this query where the gloss_qty values are 24 or 29. So the answer to the question is that yes, the BETWEEN operator in SQL is inclusive; that is, the endpoint values are included. So the BETWEEN statement in this query is equivalent to having written \"WHERE gloss_qty >= 24 AND gloss_qty <= 29.\"\n",
    "\n",
    "You will notice that using BETWEEN is tricky for dates! While BETWEEN is generally inclusive of endpoints, it assumes the time is at 00:00:00 (i.e. midnight) for dates. This is the reason why we set the right-side endpoint of the period at '2017-01-01'.\n",
    "SELECT *\n",
    "FROM web_events\n",
    "WHERE channel IN ('organic', 'adwords') AND occurred_at BETWEEN '2016-01-01' AND '2017-01-01'\n",
    "ORDER BY occurred_at DESC;\n"
   ]
  },
  {
   "cell_type": "markdown",
   "metadata": {},
   "source": [
    "Questions using the OR operator\n",
    "Find list of orders ids where either gloss_qty or poster_qty is greater than 4000. Only include the id field in the resulting table.\n",
    "\n",
    "\n",
    "Write a query that returns a list of orders where the standard_qty is zero and either the gloss_qty or poster_qty is over 1000.\n",
    "\n",
    "\n",
    "Find all the company names that start with a 'C' or 'W', and the primary contact contains 'ana' or 'Ana', but it doesn't contain 'eana'.\n",
    "\n",
    "\n"
   ]
  },
  {
   "cell_type": "code",
   "execution_count": null,
   "metadata": {
    "vscode": {
     "languageId": "sql"
    }
   },
   "outputs": [],
   "source": [
    "Solutions to OR Questions\n",
    "SELECT id\n",
    "FROM orders\n",
    "WHERE gloss_qty > 4000 OR poster_qty > 4000;\n",
    "SELECT *\n",
    "FROM orders\n",
    "WHERE standard_qty = 0 AND (gloss_qty > 1000 OR poster_qty > 1000);\n",
    "SELECT *\n",
    "FROM accounts\n",
    "WHERE (name LIKE 'C%' OR name LIKE 'W%') \n",
    "           AND ((primary_poc LIKE '%ana%' OR primary_poc LIKE '%Ana%') \n",
    "           AND primary_poc NOT LIKE '%eana%');\n"
   ]
  }
 ],
 "metadata": {
  "language_info": {
   "name": "python"
  },
  "orig_nbformat": 4
 },
 "nbformat": 4,
 "nbformat_minor": 2
}
