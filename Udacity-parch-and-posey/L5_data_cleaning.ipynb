{
 "cells": [
  {
   "cell_type": "code",
   "execution_count": null,
   "metadata": {
    "vscode": {
     "languageId": "plaintext"
    }
   },
   "outputs": [],
   "source": [
    "LEFT & RIGHT Quizzes\n",
    "In the accounts table, there is a column holding the website for each company. The last three digits specify what type of web address they are using. A list of extensions (and pricing) is provided here. Pull these extensions and provide how many of each website type exist in the accounts table.\n",
    "\n",
    "\n",
    "There is much debate about how much the name (or even the first letter of a company name) matters. Use the accounts table to pull the first letter of each company name to see the distribution of company names that begin with each letter (or number).\n",
    "\n",
    "\n",
    "Use the accounts table and a CASE statement to create two groups: one group of company names that start with a number and a second group of those company names that start with a letter. What proportion of company names start with a letter?\n",
    "\n",
    "\n",
    "Consider vowels as a, e, i, o, and u. What proportion of company names start with a vowel, and what percent start with anything else?"
   ]
  },
  {
   "cell_type": "markdown",
   "metadata": {},
   "source": [
    "## String functions:\n",
    "\n",
    "* trim, ltrim, rtrim\n",
    "\n",
    "* replace\n",
    "\n",
    "* lpad, rpad\n",
    "\n",
    "* lower, upper\n",
    "\n",
    "* substr, left, right\n",
    "\n",
    "* strpos, position\n",
    "\n",
    "* length\n",
    "\n",
    "* concat, ||\n",
    "\n",
    "## Date functions:\n",
    "\n",
    "* date_trunc\n",
    "\n",
    "* date_part, extract\n",
    "\n",
    "## Number:\n",
    "* floor()\n",
    "* ceil()\n",
    "* round()\n",
    "* power()\n",
    "\n",
    "## Type Conversion:\n",
    "\n",
    "* cast, ::\n",
    "\n",
    "* to_date, to_number\n",
    "\n",
    "* to_string\n",
    "\n",
    "* coalesce, nullif, nvl\n",
    "\n",
    "## Aggregate Functions\n",
    "* count(col1)\n",
    "* sum(col1)\n",
    "* avg(col1)\n",
    "* min(col1)\n",
    "* max(col1)\n",
    "### Usage:\n",
    "```\n",
    "select col0, agg(col1)\n",
    "from t1\n",
    "group by col0\n",
    "having agg(col1) condition\n",
    "```\n",
    "## Window Functions\n",
    "* row_number()\n",
    "* rank()\n",
    "* dense_rank()\n",
    "* ntile(n)\n",
    "\n",
    "### Usage:\n",
    "```select window_func() over (partition by col1 order by col2) alias_name```\n",
    "\n",
    "```\n",
    "window window_name as (partition by col1 order by col2)\n",
    "select window_func() over window_name alias_name\n",
    "```\n",
    "\n",
    "## Subquery:\n",
    "```\n",
    "with t1 as (\n",
    "    select statement\n",
    "),\n",
    "t2 as (\n",
    "    select statement\n",
    "    from t1\n",
    ")\n",
    "select cols...\n",
    "from t2, t1\n",
    "```\n",
    "\n",
    "## Join:\n",
    "\n",
    "```\n",
    "select t1.c1, t2.c1, t3.c3\n",
    "from tab1 t1\n",
    "    join tab2 t2 on t2.FK = t1.PK\n",
    "    join tab3 t3 on t3.FK = t2.PK\n",
    "```"
   ]
  },
  {
   "cell_type": "code",
   "execution_count": null,
   "metadata": {
    "vscode": {
     "languageId": "plaintext"
    }
   },
   "outputs": [],
   "source": [
    "Mycode: 1\n",
    "\n",
    "select right(website, 3), count(*)\n",
    "from accounts a\n",
    "group by 1;\n",
    "\n",
    "Mycode 2:\n",
    "\n",
    "select left(website, 1), count(*)\n",
    "from accounts a\n",
    "group by 1\n",
    "\n",
    "Mycode 3:\n",
    "with sub as (\n",
    "  select distinct left(website, 1) extn, count(*) freq\n",
    "  from accounts a\n",
    "  group by 1)\n",
    "  \n",
    "select case \n",
    "\twhen extn in ('c') then 'Alphabet'\n",
    "    else 'number'\n",
    "    end extn_type,\n",
    "    extn, freq\n",
    "from sub;\n",
    "\n",
    "Mycode 4:\n",
    "with sub as (\n",
    "  select left(lower(website), 1) extn\n",
    "  from accounts a),\n",
    "sub2 as (select \n",
    "    case\n",
    "        when extn in ('a','e','i','o','u') then 1 \n",
    "        else 0\n",
    "    end vowel_count \n",
    "from sub)\n",
    "select sum(vowel_count)\n",
    "from sub2;\n",
    "\n"
   ]
  },
  {
   "cell_type": "code",
   "execution_count": null,
   "metadata": {
    "vscode": {
     "languageId": "plaintext"
    }
   },
   "outputs": [],
   "source": [
    "LEFT & RIGHT Solutions\n",
    "SELECT RIGHT(website, 3) AS domain, COUNT(*) num_companies\n",
    "FROM accounts\n",
    "GROUP BY 1\n",
    "ORDER BY 2 DESC;\n",
    "SELECT LEFT(UPPER(name), 1) AS first_letter, COUNT(*) num_companies\n",
    "FROM accounts\n",
    "GROUP BY 1\n",
    "ORDER BY 2 DESC;\n",
    "\n",
    "There are 350 company names that start with a letter and 1 that starts with a number. This gives a ratio of 350/351 that are company names that start with a letter or 99.7%.\n",
    "SELECT SUM(num) nums, SUM(letter) letters\n",
    "FROM (SELECT name, CASE WHEN LEFT(UPPER(name), 1) IN ('0','1','2','3','4','5','6','7','8','9') \n",
    "                       THEN 1 ELSE 0 END AS num, \n",
    "         CASE WHEN LEFT(UPPER(name), 1) IN ('0','1','2','3','4','5','6','7','8','9') \n",
    "                       THEN 0 ELSE 1 END AS letter\n",
    "      FROM accounts) t1;\n",
    "\n",
    "There are 80 company names that start with a vowel and 271 that start with other characters. Therefore 80/351 are vowels or 22.8%. Therefore, 77.2% of company names do not start with vowels.\n",
    "SELECT SUM(vowels) vowels, SUM(other) other\n",
    "FROM (SELECT name, CASE WHEN LEFT(UPPER(name), 1) IN ('A','E','I','O','U') \n",
    "                        THEN 1 ELSE 0 END AS vowels, \n",
    "          CASE WHEN LEFT(UPPER(name), 1) IN ('A','E','I','O','U') \n",
    "                       THEN 0 ELSE 1 END AS other\n",
    "         FROM accounts) t1;"
   ]
  },
  {
   "cell_type": "code",
   "execution_count": null,
   "metadata": {
    "vscode": {
     "languageId": "plaintext"
    }
   },
   "outputs": [],
   "source": [
    "You will need to use what you have learned about LEFT & RIGHT, as well as what you know about POSITION or STRPOS to do the following quizzes.\n",
    "SELECT primary_poc, \n",
    "LEFT(primary_poc, STRPOS(primary_poc, ' ')) l, \n",
    "right(primary_poc, length(primary_poc)-STRPOS(primary_poc, ' ')) r\n",
    "FROM accounts;\n",
    "\n",
    "Use the accounts table to create first and last name columns that hold the first and last names for the primary_poc.\n",
    "SELECT name s,\n",
    "    left(name, strpos(name, ' ')) f,\n",
    "    right(name, length(name)-strpos(name, ' ')) l\n",
    "from sales_reps\n",
    "\n",
    "Now see if you can do the same thing for every rep name in the sales_reps table. Again provide first and last name columns."
   ]
  },
  {
   "cell_type": "code",
   "execution_count": null,
   "metadata": {
    "vscode": {
     "languageId": "plaintext"
    }
   },
   "outputs": [],
   "source": [
    "In this lesson, you learned about:\n",
    "\n",
    "POSITION\n",
    "STRPOS\n",
    "LOWER\n",
    "UPPER\n",
    "SUBSTR\n",
    "\n",
    "POSITION takes a character and a column, and provides the index where that character is for each row. The index of the first position is 1 in SQL. \n",
    "If you come from another programming language, many begin indexing at 0. \n",
    "Here, you saw that you can pull the index of a comma as\n",
    " POSITION(',' IN city_state).\n",
    "\n",
    "\n",
    "STRPOS provides the same result as POSITION, \n",
    "but the syntax for achieving those results is a bit different as shown here:\n",
    " STRPOS(city_state, ',').\n",
    "\n",
    "\n",
    "Note, both POSITION and STRPOS are case sensitive, so looking for A is different than looking for a.\n",
    "\n",
    "\n",
    "Therefore, if you want to pull an index regardless of the case of a letter, you might want to use LOWER or UPPER to make all of the characters lower or uppercase.\n",
    "\n"
   ]
  },
  {
   "cell_type": "code",
   "execution_count": null,
   "metadata": {
    "vscode": {
     "languageId": "plaintext"
    }
   },
   "outputs": [],
   "source": [
    "Each company in the accounts table wants to create an email address for each primary_poc. The email address should be the first name of the primary_poc . last name primary_poc @ company name .com.\n",
    "\n",
    "\n",
    "You may have noticed that in the previous solution some of the company names include spaces, which will certainly not work in an email address. See if you can create an email address that will work by removing all of the spaces in the account name, but otherwise your solution should be just as in question 1. Some helpful documentation is here.\n",
    "\n",
    "\n",
    "select primary_poc,\n",
    "lower(left(primary_poc, strpos(primary_poc, ' ')) \n",
    "||'.'||\n",
    "right(primary_poc, length(primary_poc)-strpos(primary_poc, ' ')) \n",
    "|| '@' || \n",
    "replace(name, ' ', '') ||\n",
    "'.com')\n",
    "from accounts;"
   ]
  },
  {
   "cell_type": "markdown",
   "metadata": {},
   "source": [
    "We would also like to create an initial password, which they will change after their first log in. The first password will be the first letter of the primary_poc's first name (lowercase), then the last letter of their first name (lowercase), the first letter of their last name (lowercase), the last letter of their last name (lowercase), the number of letters in their first name, the number of letters in their last name, and then the name of the company they are working with, all capitalized with no spaces."
   ]
  },
  {
   "cell_type": "code",
   "execution_count": null,
   "metadata": {
    "vscode": {
     "languageId": "sql"
    }
   },
   "outputs": [],
   "source": [
    "select primary_poc,\n",
    "lower(left(primary_poc, 1)) ||\n",
    "right(trim(left(primary_poc, strpos(primary_poc, ' '))),1)\n",
    "||left(lower(right(primary_poc, length(primary_poc)-strpos(primary_poc, ' '))), 1)\n",
    "|| right(lower(right(primary_poc, length(primary_poc)-strpos(primary_poc, ' '))), 1)\n",
    "from accounts;"
   ]
  },
  {
   "cell_type": "code",
   "execution_count": null,
   "metadata": {
    "vscode": {
     "languageId": "sql"
    }
   },
   "outputs": [],
   "source": [
    "CONCAT Solutions\n",
    "WITH t1 AS (\n",
    " SELECT LEFT(primary_poc,     STRPOS(primary_poc, ' ') -1 ) first_name,  RIGHT(primary_poc, LENGTH(primary_poc) - STRPOS(primary_poc, ' ')) last_name, name\n",
    " FROM accounts)\n",
    "SELECT first_name, last_name, CONCAT(first_name, '.', last_name, '@', name, '.com')\n",
    "FROM t1;\n",
    "WITH t1 AS (\n",
    " SELECT LEFT(primary_poc,     STRPOS(primary_poc, ' ') -1 ) first_name,  RIGHT(primary_poc, LENGTH(primary_poc) - STRPOS(primary_poc, ' ')) last_name, name\n",
    " FROM accounts)\n",
    "SELECT first_name, last_name, CONCAT(first_name, '.', last_name, '@', REPLACE(name, ' ', ''), '.com')\n",
    "FROM  t1;\n",
    "WITH t1 AS (\n",
    " SELECT LEFT(primary_poc,     STRPOS(primary_poc, ' ') -1 ) first_name,  RIGHT(primary_poc, LENGTH(primary_poc) - STRPOS(primary_poc, ' ')) last_name, name\n",
    " FROM accounts)\n",
    "SELECT first_name, last_name, CONCAT(first_name, '.', last_name, '@', name, '.com'), LEFT(LOWER(first_name), 1) || RIGHT(LOWER(first_name), 1) || LEFT(LOWER(last_name), 1) || RIGHT(LOWER(last_name), 1) || LENGTH(first_name) || LENGTH(last_name) || REPLACE(UPPER(name), ' ', '')\n",
    "FROM t1;\n"
   ]
  },
  {
   "cell_type": "markdown",
   "metadata": {},
   "source": [
    "DATE_PART\n",
    "TO_DATE\n",
    "CAST"
   ]
  },
  {
   "cell_type": "code",
   "execution_count": null,
   "metadata": {
    "vscode": {
     "languageId": "sql"
    }
   },
   "outputs": [],
   "source": [
    "CAST Solutions\n",
    "SELECT *\n",
    "FROM sf_crime_data\n",
    "LIMIT 10;\n",
    "yyyy-mm-dd\n",
    "\n",
    "The format of the date column is mm/dd/yyyy with times that are not correct \n",
    "also at the end of the date.\n",
    "\n",
    "SELECT date orig_date, (SUBSTR(date, 7, 4) || '-' || LEFT(date, 2) || '-' || SUBSTR(date, 4, 2)) new_date\n",
    "FROM sf_crime_data;\n",
    "\n",
    "Notice, this new date can be operated on using DATE_TRUNC and DATE_PART in the same way as earlier lessons.\n",
    "SELECT date orig_date, (SUBSTR(date, 7, 4) || '-' || LEFT(date, 2) || '-' || SUBSTR(date, 4, 2))::DATE new_date\n",
    "FROM sf_crime_data;\n",
    "\n",
    "select *,\n",
    "DATE_PART('month', TO_DATE(month, 'month')) as clean_month,\n",
    "year || '-' || DATE_PART('month', TO_DATE(month, 'month')) || '-' || day as concatenated_date,\n",
    "CAST(year || '-' || DATE_PART('month', TO_DATE(month, 'month')) || '-' || day as formatted_date,\n",
    "(year || '-' || DATE_PART('month', TO_DATE(month, 'month')) || '-' || day) :: date as formatted_date_alt\n",
    "from demo.ad_clicks;\n",
    "\n"
   ]
  },
  {
   "cell_type": "code",
   "execution_count": null,
   "metadata": {
    "vscode": {
     "languageId": "sql"
    }
   },
   "outputs": [],
   "source": [
    "SELECT cast(concat(extract(year from to_date(date, 'dd/mm/yyyy')),'-', extract(month from to_date(date, 'dd/mm/yyyy')),'-', extract(day from to_date(date, 'dd/mm/yyyy'))) as date)\n",
    "from sf_crime_data;"
   ]
  },
  {
   "cell_type": "code",
   "execution_count": null,
   "metadata": {
    "vscode": {
     "languageId": "sql"
    }
   },
   "outputs": [],
   "source": [
    "## Coalesce\n",
    "select \n",
    "count(primary_poc) as regular_count,\n",
    "count(coalesce(primary_poc, 'no POC')) as modified_count\n",
    "from accounts;\n",
    "\n",
    "SELECT *,\n",
    "coalesce(account_id, 1) account_id,\n",
    "coalesce(total, 0) qty,\n",
    "coalesce(total_amt_usd, 1) total_amt_usd\n",
    "FROM accounts a\n",
    "LEFT JOIN orders o\n",
    "ON a.id = o.account_id\n",
    "WHERE o.total IS NULL;"
   ]
  },
  {
   "cell_type": "code",
   "execution_count": null,
   "metadata": {
    "vscode": {
     "languageId": "sql"
    }
   },
   "outputs": [],
   "source": [
    "COALESCE Solutions\n",
    "SELECT *\n",
    "FROM accounts a\n",
    "LEFT JOIN orders o\n",
    "ON a.id = o.account_id\n",
    "WHERE o.total IS NULL; \n",
    "SELECT COALESCE(o.id, a.id) filled_id, a.name, a.website, a.lat, a.long, a.primary_poc, a.sales_rep_id, o.*\n",
    "FROM accounts a\n",
    "LEFT JOIN orders o\n",
    "ON a.id = o.account_id\n",
    "WHERE o.total IS NULL;\n",
    "SELECT COALESCE(o.id, a.id) filled_id, a.name, a.website, a.lat, a.long, a.primary_poc, a.sales_rep_id, COALESCE(o.account_id, a.id) account_id, o.occurred_at, o.standard_qty, o.gloss_qty, o.poster_qty, o.total, o.standard_amt_usd, o.gloss_amt_usd, o.poster_amt_usd, o.total_amt_usd\n",
    "FROM accounts a\n",
    "LEFT JOIN orders o\n",
    "ON a.id = o.account_id\n",
    "WHERE o.total IS NULL;\n",
    "SELECT COALESCE(o.id, a.id) filled_id, a.name, a.website, a.lat, a.long, a.primary_poc, a.sales_rep_id, COALESCE(o.account_id, a.id) account_id, o.occurred_at, COALESCE(o.standard_qty, 0) standard_qty, COALESCE(o.gloss_qty,0) gloss_qty, COALESCE(o.poster_qty,0) poster_qty, COALESCE(o.total,0) total, COALESCE(o.standard_amt_usd,0) standard_amt_usd, COALESCE(o.gloss_amt_usd,0) gloss_amt_usd, COALESCE(o.poster_amt_usd,0) poster_amt_usd, COALESCE(o.total_amt_usd,0) total_amt_usd\n",
    "FROM accounts a\n",
    "LEFT JOIN orders o\n",
    "ON a.id = o.account_id\n",
    "WHERE o.total IS NULL;\n",
    "SELECT COUNT(*)\n",
    "FROM accounts a\n",
    "LEFT JOIN orders o\n",
    "ON a.id = o.account_id;\n",
    "SELECT COALESCE(o.id, a.id) filled_id, a.name, a.website, a.lat, a.long, a.primary_poc, a.sales_rep_id, COALESCE(o.account_id, a.id) account_id, o.occurred_at, COALESCE(o.standard_qty, 0) standard_qty, COALESCE(o.gloss_qty,0) gloss_qty, COALESCE(o.poster_qty,0) poster_qty, COALESCE(o.total,0) total, COALESCE(o.standard_amt_usd,0) standard_amt_usd, COALESCE(o.gloss_amt_usd,0) gloss_amt_usd, COALESCE(o.poster_amt_usd,0) poster_amt_usd, COALESCE(o.total_amt_usd,0) total_amt_usd\n",
    "FROM accounts a\n",
    "LEFT JOIN orders o\n",
    "ON a.id = o.account_id;"
   ]
  }
 ],
 "metadata": {
  "language_info": {
   "name": "python"
  },
  "orig_nbformat": 4
 },
 "nbformat": 4,
 "nbformat_minor": 2
}
