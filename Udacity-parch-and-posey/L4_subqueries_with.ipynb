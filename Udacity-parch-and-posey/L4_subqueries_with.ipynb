{
 "cells": [
  {
   "cell_type": "markdown",
   "metadata": {},
   "source": [
    "You need to find the average number of events for each channel per day."
   ]
  },
  {
   "cell_type": "code",
   "execution_count": null,
   "metadata": {
    "vscode": {
     "languageId": "plaintext"
    }
   },
   "outputs": [],
   "source": [
    "with t1 as (\n",
    "    subquery\n",
    "),\n",
    "\n",
    "t2 as (\n",
    "    subquery\n",
    ")\n",
    "\n",
    "select *\n",
    "from t1 \n",
    "join t2 on condition"
   ]
  },
  {
   "cell_type": "code",
   "execution_count": null,
   "metadata": {
    "vscode": {
     "languageId": "sql"
    }
   },
   "outputs": [],
   "source": [
    "Provide the name of the sales_rep in each region with the largest amount of total_amt_usd sales.\n"
   ]
  },
  {
   "cell_type": "code",
   "execution_count": null,
   "metadata": {
    "vscode": {
     "languageId": "sql"
    }
   },
   "outputs": [],
   "source": [
    "\n",
    "WITH t1 AS (\n",
    "  SELECT s.name rep_name, r.name region_name, SUM(o.total_amt_usd) total_amt\n",
    "   FROM sales_reps s\n",
    "   JOIN accounts a\n",
    "   ON a.sales_rep_id = s.id\n",
    "   JOIN orders o\n",
    "   ON o.account_id = a.id\n",
    "   JOIN region r\n",
    "   ON r.id = s.region_id\n",
    "   GROUP BY 1,2\n",
    "   ORDER BY 3 DESC), \n",
    "t2 AS (\n",
    "   SELECT region_name, MAX(total_amt) total_amt\n",
    "   FROM t1\n",
    "   GROUP BY 1)\n",
    "SELECT t1.rep_name, t1.region_name, t1.total_amt\n",
    "FROM t1\n",
    "JOIN t2\n",
    "ON t1.region_name = t2.region_name AND t1.total_amt = t2.total_amt;\n",
    "\n"
   ]
  },
  {
   "cell_type": "code",
   "execution_count": null,
   "metadata": {
    "vscode": {
     "languageId": "sql"
    }
   },
   "outputs": [],
   "source": [
    "For the region with the largest sales total_amt_usd, how many total orders were placed?\n",
    "\n",
    "WITH t1 AS (\n",
    "   SELECT r.name region_name, SUM(o.total_amt_usd) total_amt\n",
    "   FROM sales_reps s\n",
    "   JOIN accounts a\n",
    "   ON a.sales_rep_id = s.id\n",
    "   JOIN orders o\n",
    "   ON o.account_id = a.id\n",
    "   JOIN region r\n",
    "   ON r.id = s.region_id\n",
    "   GROUP BY r.name), \n",
    "t2 AS (\n",
    "   SELECT MAX(total_amt)\n",
    "   FROM t1)\n",
    "SELECT r.name, COUNT(o.total) total_orders\n",
    "FROM sales_reps s\n",
    "JOIN accounts a\n",
    "ON a.sales_rep_id = s.id\n",
    "JOIN orders o\n",
    "ON o.account_id = a.id\n",
    "JOIN region r\n",
    "ON r.id = s.region_id\n",
    "GROUP BY r.name\n",
    "HAVING SUM(o.total_amt_usd) = (SELECT * FROM t2);\n",
    "\n"
   ]
  },
  {
   "cell_type": "code",
   "execution_count": null,
   "metadata": {
    "vscode": {
     "languageId": "sql"
    }
   },
   "outputs": [],
   "source": [
    "For the account that purchased the most (in total over their lifetime as a customer) standard_qty paper, how many accounts still had more in total purchases?\n",
    "\n",
    "WITH t1 AS (\n",
    "  SELECT a.name account_name, SUM(o.standard_qty) total_std, SUM(o.total) total\n",
    "  FROM accounts a\n",
    "  JOIN orders o\n",
    "  ON o.account_id = a.id\n",
    "  GROUP BY 1\n",
    "  ORDER BY 2 DESC\n",
    "  LIMIT 1), \n",
    "t2 AS (\n",
    "  SELECT a.name\n",
    "  FROM orders o\n",
    "  JOIN accounts a\n",
    "  ON a.id = o.account_id\n",
    "  GROUP BY 1\n",
    "  HAVING SUM(o.total) > (SELECT total FROM t1))\n",
    "SELECT COUNT(*)\n",
    "FROM t2;\n",
    "\n"
   ]
  },
  {
   "cell_type": "code",
   "execution_count": null,
   "metadata": {
    "vscode": {
     "languageId": "sql"
    }
   },
   "outputs": [],
   "source": [
    "For the customer that spent the most (in total over their lifetime as a customer) total_amt_usd, how many web_events did they have for each channel?\n",
    "\n",
    "WITH t1 AS (\n",
    "   SELECT a.id, a.name, SUM(o.total_amt_usd) tot_spent\n",
    "   FROM orders o\n",
    "   JOIN accounts a\n",
    "   ON a.id = o.account_id\n",
    "   GROUP BY a.id, a.name\n",
    "   ORDER BY 3 DESC\n",
    "   LIMIT 1)\n",
    "SELECT a.name, w.channel, COUNT(*)\n",
    "FROM accounts a\n",
    "JOIN web_events w\n",
    "ON a.id = w.account_id AND a.id =  (SELECT id FROM t1)\n",
    "GROUP BY 1, 2\n",
    "ORDER BY 3 DESC;\n"
   ]
  },
  {
   "cell_type": "code",
   "execution_count": null,
   "metadata": {
    "vscode": {
     "languageId": "sql"
    }
   },
   "outputs": [],
   "source": [
    "What is the lifetime average amount spent in terms of total_amt_usd for the top 10 total spending accounts?\n",
    "\n",
    "WITH t1 AS (\n",
    "   SELECT a.id, a.name, SUM(o.total_amt_usd) tot_spent\n",
    "   FROM orders o\n",
    "   JOIN accounts a\n",
    "   ON a.id = o.account_id\n",
    "   GROUP BY a.id, a.name\n",
    "   ORDER BY 3 DESC\n",
    "   LIMIT 10)\n",
    "SELECT AVG(tot_spent)\n",
    "FROM t1;\n",
    "\n"
   ]
  },
  {
   "cell_type": "code",
   "execution_count": null,
   "metadata": {
    "vscode": {
     "languageId": "sql"
    }
   },
   "outputs": [],
   "source": [
    "What is the lifetime average amount spent in terms of total_amt_usd, including only the companies that spent more per order, on average, than the average of all orders.\n",
    "\n",
    "WITH t1 AS (\n",
    "   SELECT AVG(o.total_amt_usd) avg_all\n",
    "   FROM orders o\n",
    "   JOIN accounts a\n",
    "   ON a.id = o.account_id),\n",
    "t2 AS (\n",
    "   SELECT o.account_id, AVG(o.total_amt_usd) avg_amt\n",
    "   FROM orders o\n",
    "   GROUP BY 1\n",
    "   HAVING AVG(o.total_amt_usd) > (SELECT * FROM t1))\n",
    "SELECT AVG(avg_amt)\n",
    "FROM t2;"
   ]
  },
  {
   "cell_type": "code",
   "execution_count": null,
   "metadata": {
    "vscode": {
     "languageId": "sql"
    }
   },
   "outputs": [],
   "source": [
    "Solutions to Your First Subquery\n",
    "First, we needed to group by the day and channel. Then ordering by the number of events (the third column) gave us a quick way to answer the first question.\n",
    "SELECT DATE_TRUNC('day',occurred_at) AS day,\n",
    "   channel, COUNT(*) as events\n",
    "FROM web_events\n",
    "GROUP BY 1,2\n",
    "ORDER BY 3 DESC;\n",
    "Here you can see that to get the entire table in question 1 back, we included an * in our SELECT statement. You will need to be sure to alias your table.\n",
    "SELECT *\n",
    "FROM (SELECT DATE_TRUNC('day',occurred_at) AS day,\n",
    "           channel, COUNT(*) as events\n",
    "     FROM web_events \n",
    "     GROUP BY 1,2\n",
    "     ORDER BY 3 DESC) sub;\n",
    "Finally, here we are able to get a table that shows the average number of events a day for each channel.\n",
    "SELECT channel, AVG(events) AS average_events\n",
    "FROM (SELECT DATE_TRUNC('day',occurred_at) AS day,\n",
    "             channel, COUNT(*) as events\n",
    "      FROM web_events \n",
    "      GROUP BY 1,2) sub\n",
    "GROUP BY channel\n",
    "ORDER BY 2 DESC;"
   ]
  },
  {
   "cell_type": "code",
   "execution_count": null,
   "metadata": {
    "vscode": {
     "languageId": "sql"
    }
   },
   "outputs": [],
   "source": [
    "Queries Needed to Find the Solutions to the Previous Quiz\n",
    "Here is the necessary quiz to pull the first month/year combo from the orders table.\n",
    "\n",
    "SELECT DATE_TRUNC('month', MIN(occurred_at)) \n",
    "FROM orders;\n",
    "Then to pull the average for each, we could do this all in one query, but for readability, I provided two queries below to perform each separately.\n",
    "\n",
    "SELECT AVG(standard_qty) avg_std, AVG(gloss_qty) avg_gls, AVG(poster_qty) avg_pst\n",
    "FROM orders\n",
    "WHERE DATE_TRUNC('month', occurred_at) = \n",
    "     (SELECT DATE_TRUNC('month', MIN(occurred_at)) FROM orders);\n",
    "\n",
    "SELECT SUM(total_amt_usd)\n",
    "FROM orders\n",
    "WHERE DATE_TRUNC('month', occurred_at) = \n",
    "      (SELECT DATE_TRUNC('month', MIN(occurred_at)) FROM orders);"
   ]
  }
 ],
 "metadata": {
  "language_info": {
   "name": "python"
  },
  "orig_nbformat": 4
 },
 "nbformat": 4,
 "nbformat_minor": 2
}
