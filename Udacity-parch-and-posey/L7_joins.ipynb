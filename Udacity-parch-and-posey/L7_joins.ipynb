{
 "cells": [
  {
   "cell_type": "markdown",
   "metadata": {},
   "source": [
    "Finding Matched and Unmatched Rows with FULL \n",
    "## OUTER JOIN\n",
    "You’re not likely to use FULL JOIN (which can also be written as FULL OUTER JOIN) too often, but the syntax is worth practicing anyway. LEFT JOIN and RIGHT JOIN each return unmatched rows from one of the tables—FULL JOIN returns unmatched rows from both tables. FULL JOIN is commonly used in conjunction with aggregations to understand the amount of overlap between two tables.\n",
    "\n",
    "Say you're an analyst at Parch & Posey and you want to see:\n",
    "\n",
    "each account who has a sales rep and each sales rep that has an account (all of the columns in these returned rows will be full)\n",
    "but also each account that does not have a sales rep and each sales rep that does not have an account (some of the columns in these returned rows will be empty)\n",
    "This type of question is rare, but FULL OUTER JOIN is perfect for it. In the following SQL Explorer, write a query with FULL OUTER JOIN to fit the above described Parch & Posey scenario (selecting all of the columns in both of the relevant tables, accounts and sales_reps) then answer the subsequent multiple choice quiz.\n",
    "\n"
   ]
  },
  {
   "cell_type": "code",
   "execution_count": null,
   "metadata": {
    "vscode": {
     "languageId": "sql"
    }
   },
   "outputs": [],
   "source": [
    "SELECT *\n",
    "  FROM accounts\n",
    " FULL JOIN sales_reps ON accounts.sales_rep_id = sales_reps.id\n",
    "/**\n",
    "If unmatched rows existed (they don't for this query), \n",
    "you could isolate them by adding the following line to the end of the query:\n",
    "**/\n",
    "WHERE accounts.sales_rep_id IS NULL OR sales_reps.id IS NULL"
   ]
  },
  {
   "cell_type": "markdown",
   "metadata": {},
   "source": [
    "## Inequality JOINs\n",
    "The query in Derek's video was pretty long. Let's now use a shorter query to showcase the power of joining with comparison operators.\n",
    "\n",
    "Inequality operators (a.k.a. comparison operators) don't only need to be date times or numbers, they also work on strings! You'll see how this works by completing the following quiz, which will also reinforce the concept of joining with comparison operators.\n",
    "\n",
    "In the following SQL Explorer, write a query that left joins the accounts table and the sales_reps tables on each sale rep's ID number and joins it using the < comparison operator on accounts.primary_poc and sales_reps.name, like so:\n",
    "\n",
    "accounts.primary_poc < sales_reps.name\n",
    "The query results should be a table with three columns: the account name (e.g. Johnson Controls), the primary contact name (e.g. Cammy Sosnowski), and the sales representative's name (e.g. Samuel Racine). Then answer the subsequent multiple choice question.\n",
    "\n"
   ]
  },
  {
   "cell_type": "markdown",
   "metadata": {},
   "source": [
    "## Self JOINs\n",
    "One of the most common use cases for self JOINs is in cases where two events occurred, one after another. As you may have noticed in the previous video, using inequalities in conjunction with self JOINs is common.\n",
    "\n",
    "Modify the query from the previous video, which is pre-populated in the SQL Explorer below, to perform the same interval analysis except for the web_events table. Also:\n",
    "\n",
    "change the interval to 1 day to find those web events that occurred after, but not more than 1 day after, another web event\n",
    "add a column for the channel variable in both instances of the table in your query\n",
    "You can find more on the types of INTERVALS (and other date related functionality) in the Postgres documentation here.\n"
   ]
  },
  {
   "cell_type": "code",
   "execution_count": null,
   "metadata": {
    "vscode": {
     "languageId": "sql"
    }
   },
   "outputs": [],
   "source": [
    "\n",
    "SELECT o1.id AS o1_id,\n",
    "       o1.account_id AS o1_account_id,\n",
    "       o1.occurred_at AS o1_occurred_at,\n",
    "       o2.id AS o2_id,\n",
    "       o2.account_id AS o2_account_id,\n",
    "       o2.occurred_at AS o2_occurred_at\n",
    "  FROM orders o1\n",
    " LEFT JOIN orders o2\n",
    "   ON o1.account_id = o2.account_id\n",
    "  AND o2.occurred_at > o1.occurred_at\n",
    "  AND o2.occurred_at <= o1.occurred_at + INTERVAL '28 days'\n",
    "ORDER BY o1.account_id, o1.occurred_at"
   ]
  },
  {
   "cell_type": "markdown",
   "metadata": {},
   "source": [
    "Appending Data via UNION\n",
    "Write a query that uses UNION ALL on two instances (and selecting all columns) of the accounts table. Then inspect the results and answer the subsequent quiz.\n",
    "\n"
   ]
  },
  {
   "cell_type": "code",
   "execution_count": null,
   "metadata": {
    "vscode": {
     "languageId": "sql"
    }
   },
   "outputs": [],
   "source": [
    "Quiz 1:\n",
    "SELECT *\n",
    "    FROM accounts\n",
    "\n",
    "UNION ALL\n",
    "\n",
    "SELECT *\n",
    "  FROM accounts\n",
    "Quiz 2:\n",
    "SELECT *\n",
    "    FROM accounts\n",
    "    WHERE name = 'Walmart'\n",
    "\n",
    "UNION ALL\n",
    "\n",
    "SELECT *\n",
    "  FROM accounts\n",
    "  WHERE name = 'Disney'\n",
    "Quiz 3:\n",
    "WITH double_accounts AS (\n",
    "    SELECT *\n",
    "      FROM accounts\n",
    "\n",
    "    UNION ALL\n",
    "\n",
    "    SELECT *\n",
    "      FROM accounts\n",
    ")\n",
    "\n",
    "SELECT name,\n",
    "       COUNT(*) AS name_count\n",
    " FROM double_accounts \n",
    "GROUP BY 1\n",
    "ORDER BY 2 DESC"
   ]
  }
 ],
 "metadata": {
  "language_info": {
   "name": "python"
  },
  "orig_nbformat": 4
 },
 "nbformat": 4,
 "nbformat_minor": 2
}
