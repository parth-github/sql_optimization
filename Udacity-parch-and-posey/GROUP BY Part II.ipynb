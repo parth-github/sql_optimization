{
 "cells": [
  {
   "cell_type": "markdown",
   "metadata": {},
   "source": [
    "Solutions: GROUP BY Part II\n",
    "For each account, determine the average amount of each type of paper they purchased across their orders. Your result should have four columns - one for the account name and one for the average spent on each of the paper types.\n",
    "\n",
    "```\n",
    "SELECT a.name, AVG(o.standard_qty) avg_stand, AVG(o.gloss_qty) avg_gloss, AVG(o.poster_qty) avg_post\n",
    "FROM accounts a\n",
    "JOIN orders o\n",
    "ON a.id = o.account_id\n",
    "GROUP BY a.name;\n",
    "```\n",
    "For each account, determine the average amount spent per order on each paper type. Your result should have four columns - one for the account name and one for the average amount spent on each paper type.\n",
    "```\n",
    "SELECT a.name, AVG(o.standard_amt_usd) avg_stand, AVG(o.gloss_amt_usd) avg_gloss, AVG(o.poster_amt_usd) avg_post\n",
    "FROM accounts a\n",
    "JOIN orders o\n",
    "ON a.id = o.account_id\n",
    "GROUP BY a.name;\n",
    "```\n",
    "Determine the number of times a particular channel was used in the web_events table for each sales rep. Your final table should have three columns - the name of the sales rep, the channel, and the number of occurrences. Order your table with the highest number of occurrences first.\n",
    "\n",
    "```\n",
    "SELECT s.name, w.channel, COUNT(*) num_events\n",
    "FROM accounts a\n",
    "JOIN web_events w\n",
    "ON a.id = w.account_id\n",
    "JOIN sales_reps s\n",
    "ON s.id = a.sales_rep_id\n",
    "GROUP BY s.name, w.channel\n",
    "ORDER BY num_events DESC;\n",
    "```\n",
    "\n",
    "Determine the number of times a particular channel was used in the web_events table for each region. Your final table should have three columns - the region name, the channel, and the number of occurrences. Order your table with the highest number of occurrences first.\n",
    "```\n",
    "SELECT r.name, w.channel, COUNT(*) num_events\n",
    "FROM accounts a\n",
    "JOIN web_events w\n",
    "ON a.id = w.account_id\n",
    "JOIN sales_reps s\n",
    "ON s.id = a.sales_rep_id\n",
    "JOIN region r\n",
    "ON r.id = s.region_id\n",
    "GROUP BY r.name, w.channel\n",
    "ORDER BY num_events DESC;\n",
    "```"
   ]
  }
 ],
 "metadata": {
  "language_info": {
   "name": "python"
  },
  "orig_nbformat": 4
 },
 "nbformat": 4,
 "nbformat_minor": 2
}
