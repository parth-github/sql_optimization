{
 "cells": [
  {
   "cell_type": "code",
   "execution_count": null,
   "metadata": {},
   "outputs": [],
   "source": [
    "Write Your First JOIN\n",
    "Below we see an example of a query using a JOIN statement. Let's discuss what the different clauses of this query mean.\n",
    "\n",
    "SELECT orders.*\n",
    "FROM orders\n",
    "JOIN accounts\n",
    "ON orders.account_id = accounts.id;\n",
    "As we've learned, the SELECT clause indicates which column(s) of data you'd like to see in the output (For Example, orders.* gives us all the columns in orders table in the output). The FROM clause indicates the first table from which we're pulling data, and the JOIN indicates the second table. The ON clause specifies the column on which you'd like to merge the two tables together. Try running this query yourself below.\n",
    "\n"
   ]
  },
  {
   "cell_type": "markdown",
   "metadata": {},
   "source": [
    "Provide a table for all web_events associated with account name of Walmart. There should be three columns. Be sure to include the primary_poc, time of the event, and the channel for each event. Additionally, you might choose to add a fourth column to assure only Walmart events were chosen.\n",
    "\n",
    "Provide a table that provides the region for each sales_rep along with their associated accounts. Your final table should include three columns: the region name, the sales rep name, and the account name. Sort the accounts alphabetically (A-Z) according to account name.\n",
    "\n",
    "Provide the name for each region for every order, as well as the account name and the unit price they paid (total_amt_usd/total) for the order. Your final table should have 3 columns: region name, account name, and unit price. A few accounts have 0 for total, so I divided by (total + 0.01) to assure not dividing by zero.\n"
   ]
  },
  {
   "cell_type": "code",
   "execution_count": null,
   "metadata": {
    "vscode": {
     "languageId": "sql"
    }
   },
   "outputs": [],
   "source": [
    "--Provide a table for all the for all web_events associated with account name of Walmart. There should be three columns. Be sure to include the primary_poc, time of the event, and the channel for each event. Additionally, you might choose to add a fourth column to assure only Walmart events were chosen.\n",
    "SELECT a.primary_poc, w.occurred_at, w.channel, a.name\n",
    "FROM web_events w\n",
    "JOIN accounts a\n",
    "ON w.account_id = a.id\n",
    "WHERE a.name = 'Walmart';\n",
    "\n",
    "--Provide a table that provides the region for each sales_rep along with their associated accounts. Your final table should include three columns: the region name, the sales rep name, and the account name. Sort the accounts alphabetically (A-Z) according to account name.\n",
    "SELECT r.name region, s.name rep, a.name account\n",
    "FROM sales_reps s\n",
    "JOIN region r\n",
    "ON s.region_id = r.id\n",
    "JOIN accounts a\n",
    "ON a.sales_rep_id = s.id\n",
    "ORDER BY a.name;\n",
    "\n",
    "--Provide the name for each region for every order, as well as the account name and the unit price they paid (total_amt_usd/total) for the order. Your final table should have 3 columns: region name, account name, and unit price. A few accounts have 0 for total, so I divided by (total + 0.01) to assure not dividing by zero.\n",
    "SELECT r.name region, a.name account, \n",
    "       o.total_amt_usd/(o.total + 0.01) unit_price\n",
    "FROM region r\n",
    "JOIN sales_reps s\n",
    "ON s.region_id = r.id\n",
    "JOIN accounts a\n",
    "ON a.sales_rep_id = s.id\n",
    "JOIN orders o\n",
    "ON o.account_id = a.id;"
   ]
  },
  {
   "cell_type": "code",
   "execution_count": null,
   "metadata": {
    "vscode": {
     "languageId": "sql"
    }
   },
   "outputs": [],
   "source": [
    "Solutions: Last Check\n",
    "Solutions\n",
    "Provide a table that provides the region for each sales_rep along with their associated accounts. This time only for the Midwest region. Your final table should include three columns: the region name, the sales rep name, and the account name. Sort the accounts alphabetically (A-Z) according to account name.\n",
    "SELECT r.name region, s.name rep, a.name account\n",
    "FROM sales_reps s\n",
    "JOIN region r\n",
    "ON s.region_id = r.id\n",
    "JOIN accounts a\n",
    "ON a.sales_rep_id = s.id\n",
    "WHERE r.name = 'Midwest'\n",
    "ORDER BY a.name;\n",
    "Provide a table that provides the region for each sales_rep along with their associated accounts. This time only for accounts where the sales rep has a first name starting with S and in the Midwest region. Your final table should include three columns: the region name, the sales rep name, and the account name. Sort the accounts alphabetically (A-Z) according to account name.\n",
    "SELECT r.name region, s.name rep, a.name account\n",
    "FROM sales_reps s\n",
    "JOIN region r\n",
    "ON s.region_id = r.id\n",
    "JOIN accounts a\n",
    "ON a.sales_rep_id = s.id\n",
    "WHERE r.name = 'Midwest' AND s.name LIKE 'S%'\n",
    "ORDER BY a.name;\n",
    "Provide a table that provides the region for each sales_rep along with their associated accounts. This time only for accounts where the sales rep has a last name starting with K and in the Midwest region. Your final table should include three columns: the region name, the sales rep name, and the account name. Sort the accounts alphabetically (A-Z) according to account name.\n",
    "SELECT r.name region, s.name rep, a.name account\n",
    "FROM sales_reps s\n",
    "JOIN region r\n",
    "ON s.region_id = r.id\n",
    "JOIN accounts a\n",
    "ON a.sales_rep_id = s.id\n",
    "WHERE r.name = 'Midwest' AND s.name LIKE '% K%'\n",
    "ORDER BY a.name;\n",
    "Provide the name for each region for every order, as well as the account name and the unit price they paid (total_amt_usd/total) for the order. However, you should only provide the results if the standard order quantity exceeds 100. Your final table should have 3 columns: region name, account name, and unit price.\n",
    "SELECT r.name region, a.name account, o.total_amt_usd/(o.total + 0.01) unit_price\n",
    "FROM region r\n",
    "JOIN sales_reps s\n",
    "ON s.region_id = r.id\n",
    "JOIN accounts a\n",
    "ON a.sales_rep_id = s.id\n",
    "JOIN orders o\n",
    "ON o.account_id = a.id\n",
    "WHERE o.standard_qty > 100;\n",
    "Provide the name for each region for every order, as well as the account name and the unit price they paid (total_amt_usd/total) for the order. However, you should only provide the results if the standard order quantity exceeds 100 and the poster order quantity exceeds 50. Your final table should have 3 columns: region name, account name, and unit price. Sort for the smallest unit price first.\n",
    "SELECT r.name region, a.name account, o.total_amt_usd/(o.total + 0.01) unit_price\n",
    "FROM region r\n",
    "JOIN sales_reps s\n",
    "ON s.region_id = r.id\n",
    "JOIN accounts a\n",
    "ON a.sales_rep_id = s.id\n",
    "JOIN orders o\n",
    "ON o.account_id = a.id\n",
    "WHERE o.standard_qty > 100 AND o.poster_qty > 50\n",
    "ORDER BY unit_price;\n",
    "Provide the name for each region for every order, as well as the account name and the unit price they paid (total_amt_usd/total) for the order. However, you should only provide the results if the standard order quantity exceeds 100 and the poster order quantity exceeds 50. Your final table should have 3 columns: region name, account name, and unit price. Sort for the largest unit price first.\n",
    "\n",
    "SELECT r.name region, a.name account, o.total_amt_usd/(o.total + 0.01) unit_price\n",
    "FROM region r\n",
    "JOIN sales_reps s\n",
    "ON s.region_id = r.id\n",
    "JOIN accounts a\n",
    "ON a.sales_rep_id = s.id\n",
    "JOIN orders o\n",
    "ON o.account_id = a.id\n",
    "WHERE o.standard_qty > 100 AND o.poster_qty > 50\n",
    "ORDER BY unit_price DESC;\n",
    "What are the different channels used by account id 1001? Your final table should have only 2 columns: account name and the different channels. You can try SELECT DISTINCT to narrow down the results to only the unique values.\n",
    "\n",
    "SELECT DISTINCT a.name, w.channel\n",
    "FROM accounts a\n",
    "JOIN web_events w\n",
    "ON a.id = w.account_id\n",
    "WHERE a.id = '1001';\n",
    "Find all the orders that occurred in 2015. Your final table should have 4 columns: occurred_at, account name, order total, and order total_amt_usd.\n",
    "SELECT o.occurred_at, a.name, o.total, o.total_amt_usd\n",
    "FROM accounts a\n",
    "JOIN orders o\n",
    "ON o.account_id = a.id\n",
    "WHERE o.occurred_at BETWEEN '01-01-2015' AND '01-01-2016'\n",
    "ORDER BY o.occurred_at DESC;"
   ]
  }
 ],
 "metadata": {
  "interpreter": {
   "hash": "e8babe1a2fa82189475a338c469f0272fb466fdcb35c3f0d1ad81a9bc9eca1bf"
  },
  "kernelspec": {
   "display_name": "Python 3.10.2 64-bit (system)",
   "language": "python",
   "name": "python3"
  },
  "language_info": {
   "name": "python",
   "version": "3.10.2"
  },
  "orig_nbformat": 4
 },
 "nbformat": 4,
 "nbformat_minor": 2
}
