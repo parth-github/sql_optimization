{
 "cells": [
  {
   "cell_type": "code",
   "execution_count": null,
   "metadata": {
    "vscode": {
     "languageId": "sql"
    }
   },
   "outputs": [],
   "source": [
    "Solutions: GROUP BY\n",
    "Which account (by name) placed the earliest order? Your solution should have the account name and the date of the order.\n",
    "SELECT a.name, o.occurred_at\n",
    "FROM accounts a\n",
    "JOIN orders o\n",
    "ON a.id = o.account_id\n",
    "ORDER BY occurred_at\n",
    "LIMIT 1;\n",
    "\n",
    "Find the total sales in usd for each account. You should include two columns - the total sales for each company's orders in usd and the company name.\n",
    "\n",
    "SELECT a.name, SUM(total_amt_usd) total_sales\n",
    "FROM orders o\n",
    "JOIN accounts a\n",
    "ON a.id = o.account_id\n",
    "GROUP BY a.name;\n",
    "Via what channel did the most recent (latest) web_event occur, which account was associated with this web_event? Your query should return only three values - the date, channel, and account name.\n",
    "SELECT w.occurred_at, w.channel, a.name\n",
    "FROM web_events w\n",
    "JOIN accounts a\n",
    "ON w.account_id = a.id \n",
    "ORDER BY w.occurred_at DESC\n",
    "LIMIT 1;\n",
    "Find the total number of times each type of channel from the web_events was used. Your final table should have two columns - the channel and the number of times the channel was used.\n",
    "SELECT w.channel, COUNT(*)\n",
    "FROM web_events w\n",
    "GROUP BY w.channel\n",
    "Who was the primary contact associated with the earliest web_event?\n",
    "SELECT a.primary_poc\n",
    "FROM web_events w\n",
    "JOIN accounts a\n",
    "ON a.id = w.account_id\n",
    "ORDER BY w.occurred_at\n",
    "LIMIT 1;\n",
    "What was the smallest order placed by each account in terms of total usd. Provide only two columns - the account name and the total usd. Order from smallest dollar amounts to largest.\n",
    "SELECT a.name, MIN(total_amt_usd) smallest_order\n",
    "FROM accounts a\n",
    "JOIN orders o\n",
    "ON a.id = o.account_id\n",
    "GROUP BY a.name\n",
    "ORDER BY smallest_order;\n",
    "Sort of strange we have a bunch of orders with no dollars. We might want to look into those.\n",
    "\n",
    "Find the number of sales reps in each region. Your final table should have two columns - the region and the number of sales_reps. Order from fewest reps to most reps.\n",
    "SELECT r.name, COUNT(*) num_reps\n",
    "FROM region r\n",
    "JOIN sales_reps s\n",
    "ON r.id = s.region_id\n",
    "GROUP BY r.name\n",
    "ORDER BY num_reps;\n"
   ]
  }
 ],
 "metadata": {
  "language_info": {
   "name": "python"
  },
  "orig_nbformat": 4
 },
 "nbformat": 4,
 "nbformat_minor": 2
}
