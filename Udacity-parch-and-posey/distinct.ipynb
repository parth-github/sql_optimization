{
 "cells": [
  {
   "cell_type": "markdown",
   "metadata": {},
   "source": [
    "Solutions: DISTINCT\n",
    "Use DISTINCT to test if there are any accounts associated with more than one region.\n",
    "\n",
    "The below two queries have the same number of resulting rows (351), so we know that every account is associated with only one region. If each account was associated with more than one region, the first query should have returned more rows than the second query.\n",
    "\n",
    "SELECT a.id as \"account id\", r.id as \"region id\", \n",
    "a.name as \"account name\", r.name as \"region name\"\n",
    "FROM accounts a\n",
    "JOIN sales_reps s\n",
    "ON s.id = a.sales_rep_id\n",
    "JOIN region r\n",
    "ON r.id = s.region_id;\n",
    "and\n",
    "\n",
    "SELECT DISTINCT id, name\n",
    "FROM accounts;\n",
    "Have any sales reps worked on more than one account?\n",
    "\n",
    "Actually all of the sales reps have worked on more than one account. The fewest number of accounts any sales rep works on is 3. There are 50 sales reps, and they all have more than one account. Using DISTINCT in the second query assures that all of the sales reps are accounted for in the first query.\n",
    "\n",
    "SELECT s.id, s.name, COUNT(*) num_accounts\n",
    "FROM accounts a\n",
    "JOIN sales_reps s\n",
    "ON s.id = a.sales_rep_id\n",
    "GROUP BY s.id, s.name\n",
    "ORDER BY num_accounts;\n",
    "and\n",
    "\n",
    "SELECT DISTINCT id, name\n",
    "FROM sales_reps;\n"
   ]
  }
 ],
 "metadata": {
  "language_info": {
   "name": "python"
  },
  "orig_nbformat": 4
 },
 "nbformat": 4,
 "nbformat_minor": 2
}
