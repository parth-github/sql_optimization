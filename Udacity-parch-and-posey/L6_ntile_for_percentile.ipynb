{
 "cells": [
  {
   "cell_type": "markdown",
   "metadata": {},
   "source": [
    "## Percentiles with Partitions\n",
    "\n",
    "You can use partitions with percentiles to determine the percentile of a specific subset of all rows. Imagine you're an analyst at Parch & Posey and you want to determine the largest orders (in terms of quantity) a specific customer has made to encourage them to order more similarly sized large orders. You only want to consider the **NTILE** for that customer's `account_id`.\n",
    "\n",
    "In the SQL Explorer below, write three queries (separately) that reflect each of the following:\n",
    "\n",
    "* Use the NTILE functionality to divide the accounts into 4 levels in terms of the amount of `standard_qty` for their orders. Your resulting table should have the `account_id`, the `occurred_at` time for each order, the total amount of `standard_qty` paper purchased, and one of four levels in a `standard_quartile` column.\n",
    "\n"
   ]
  },
  {
   "cell_type": "code",
   "execution_count": null,
   "metadata": {
    "vscode": {
     "languageId": "sql"
    }
   },
   "outputs": [],
   "source": [
    "select account_id, occurred_at, gloss_qty,\n",
    "    ntile(4) over(PARTITION BY account_id order by standard_qty) standard_quartile, \n",
    "    ntile(2) over(PARTITION BY account_id order by gloss_qty) gloss_half, \n",
    "    ntile(100) over(PARTITION BY account_id order by total_amt_usd) total_percentile\n",
    "from orders"
   ]
  },
  {
   "cell_type": "markdown",
   "metadata": {},
   "source": [
    "* Use the NTILE functionality to divide the accounts into two levels in terms of the amount of `gloss_qty` for their orders. Your resulting table should have the `account_id`, the `occurred_at` time for each order, the total amount of gloss_qty paper purchased, and one of two levels in a `gloss_half` column."
   ]
  },
  {
   "cell_type": "code",
   "execution_count": null,
   "metadata": {
    "vscode": {
     "languageId": "sql"
    }
   },
   "outputs": [],
   "source": [
    "SELECT\n",
    "       account_id,\n",
    "       occurred_at,\n",
    "       gloss_qty,\n",
    "       NTILE(2) OVER (PARTITION BY account_id ORDER BY gloss_qty) AS gloss_half\n",
    "  FROM orders \n",
    " ORDER BY account_id DESC"
   ]
  },
  {
   "cell_type": "markdown",
   "metadata": {},
   "source": [
    "* Use the NTILE functionality to divide the orders for each account into 100 levels in terms of the amount of `total_amt_usd` for their orders. Your resulting table should have the `account_id`, the `occurred_at` time for each order, the total amount of `total_amt_usd` paper purchased, and one of 100 levels in a `total_percentile` column.\n",
    "\n",
    "\n",
    "Note: To make it easier to interpret the results, order by the `account_id` in each of the queries."
   ]
  },
  {
   "cell_type": "code",
   "execution_count": null,
   "metadata": {
    "vscode": {
     "languageId": "sql"
    }
   },
   "outputs": [],
   "source": [
    "SELECT\n",
    "       account_id,\n",
    "       occurred_at,\n",
    "       total_amt_usd,\n",
    "       NTILE(100) OVER (PARTITION BY account_id ORDER BY total_amt_usd) AS total_percentile\n",
    "  FROM orders \n",
    " ORDER BY account_id DESC"
   ]
  }
 ],
 "metadata": {
  "language_info": {
   "name": "python"
  },
  "orig_nbformat": 4
 },
 "nbformat": 4,
 "nbformat_minor": 2
}
