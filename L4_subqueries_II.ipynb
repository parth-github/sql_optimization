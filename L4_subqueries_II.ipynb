{
 "cells": [
  {
   "cell_type": "markdown",
   "metadata": {},
   "source": [
    "# Subqueries Part II\n",
    "In the first subquery you wrote, you created a table that you could then query again in the FROM statement. However, if you are only returning a single value, you might use that value in a logical statement like WHERE, HAVING, or even SELECT - the value could be nested within a CASE statement.\n",
    "\n",
    "On the next concept, we will work through this example, and then you will get some practice on answering some questions on your own.\n",
    "\n",
    "## Expert Tip\n",
    "Note that you should not include an alias when you write a subquery in a conditional statement. This is because the subquery is treated as an individual value (or set of values in the IN case) rather than as a table.\n",
    "\n",
    "Also, notice the query here compared a single value. If we returned an entire column IN would need to be used to perform a logical argument. If we are returning an entire table, then we must use an ALIAS for the table, and perform additional logic on the entire table."
   ]
  },
  {
   "cell_type": "markdown",
   "metadata": {},
   "source": [
    "Use DATE_TRUNC to pull `month` level information about the first order ever placed in the orders table."
   ]
  },
  {
   "cell_type": "code",
   "execution_count": null,
   "metadata": {
    "vscode": {
     "languageId": "sql"
    }
   },
   "outputs": [],
   "source": [
    "select min(date_trunc('month', o.occurred_at))\n",
    "from orders o "
   ]
  },
  {
   "cell_type": "markdown",
   "metadata": {},
   "source": [
    "The average amount of standard paper sold on the first month that any order was placed in the orders table (in terms of quantity).\n",
    "\n",
    "The average amount of gloss paper sold on the first month that any order was placed in the orders table (in terms of quantity).\n",
    "\n",
    "The average amount of poster paper sold on the first month that any order was placed in the orders table (in terms of quantity).\n",
    "\n",
    "The total amount spent on all orders on the first month that any order was placed in the orders table (in terms of usd)."
   ]
  },
  {
   "cell_type": "code",
   "execution_count": null,
   "metadata": {
    "vscode": {
     "languageId": "sql"
    }
   },
   "outputs": [],
   "source": [
    "SELECT DATE_TRUNC('month', MIN(occurred_at)) \n",
    "FROM orders;\n",
    "\n",
    "SELECT AVG(standard_qty) avg_std, AVG(gloss_qty) avg_gls, AVG(poster_qty) avg_pst\n",
    "FROM orders\n",
    "WHERE DATE_TRUNC('month', occurred_at) = \n",
    "     (SELECT DATE_TRUNC('month', MIN(occurred_at)) FROM orders);\n",
    "\n",
    "SELECT SUM(total_amt_usd)\n",
    "FROM orders\n",
    "WHERE DATE_TRUNC('month', occurred_at) = \n",
    "      (SELECT DATE_TRUNC('month', MIN(occurred_at)) FROM orders);"
   ]
  },
  {
   "cell_type": "markdown",
   "metadata": {},
   "source": [
    "More Subqueries Quizzes\n",
    "Above is the ERD for the database again - it might come in handy as you tackle the quizzes below. You should write your solution as a subquery or subqueries, not by finding one solution and copying the output. The importance of this is that it allows your query to be dynamic in answering the question - even if the data changes, you still arrive at the right answer.\n",
    "\n",
    "1. Provide the name of the sales_rep in each region with the largest amount of total_amt_usd sales.\n"
   ]
  },
  {
   "cell_type": "code",
   "execution_count": null,
   "metadata": {
    "vscode": {
     "languageId": "sql"
    }
   },
   "outputs": [],
   "source": [
    "SELECT t3.rep_name, t3.region_name, t3.total_amt\n",
    "FROM(SELECT region_name, MAX(total_amt) total_amt\n",
    "     FROM(SELECT s.name rep_name, r.name region_name, SUM(o.total_amt_usd) total_amt\n",
    "             FROM sales_reps s\n",
    "             JOIN accounts a\n",
    "             ON a.sales_rep_id = s.id\n",
    "             JOIN orders o\n",
    "             ON o.account_id = a.id\n",
    "             JOIN region r\n",
    "             ON r.id = s.region_id\n",
    "             GROUP BY 1, 2) t1\n",
    "     GROUP BY 1) t2\n",
    "JOIN (SELECT s.name rep_name, r.name region_name, SUM(o.total_amt_usd) total_amt\n",
    "     FROM sales_reps s\n",
    "     JOIN accounts a\n",
    "     ON a.sales_rep_id = s.id\n",
    "     JOIN orders o\n",
    "     ON o.account_id = a.id\n",
    "     JOIN region r\n",
    "     ON r.id = s.region_id\n",
    "     GROUP BY 1,2\n",
    "     ORDER BY 3 DESC) t3\n",
    "ON t3.region_name = t2.region_name AND t3.total_amt = t2.total_amt;"
   ]
  },
  {
   "cell_type": "markdown",
   "metadata": {},
   "source": [
    "2. For the region with the largest (sum) of sales total_amt_usd, how many total (count) orders were placed?\n"
   ]
  },
  {
   "cell_type": "code",
   "execution_count": null,
   "metadata": {
    "vscode": {
     "languageId": "sql"
    }
   },
   "outputs": [],
   "source": [
    "SELECT r.name, COUNT(o.total) total_orders\n",
    "FROM sales_reps s\n",
    "JOIN accounts a\n",
    "ON a.sales_rep_id = s.id\n",
    "JOIN orders o\n",
    "ON o.account_id = a.id\n",
    "JOIN region r\n",
    "ON r.id = s.region_id\n",
    "GROUP BY r.name\n",
    "HAVING SUM(o.total_amt_usd) = (\n",
    "      SELECT MAX(total_amt)\n",
    "      FROM (SELECT r.name region_name, SUM(o.total_amt_usd) total_amt\n",
    "              FROM sales_reps s\n",
    "              JOIN accounts a\n",
    "              ON a.sales_rep_id = s.id\n",
    "              JOIN orders o\n",
    "              ON o.account_id = a.id\n",
    "              JOIN region r\n",
    "              ON r.id = s.region_id\n",
    "              GROUP BY r.name) sub);"
   ]
  },
  {
   "cell_type": "markdown",
   "metadata": {},
   "source": [
    "3. How many accounts had more total purchases than the account name which has bought the most standard_qty paper throughout their lifetime as a customer?\n"
   ]
  },
  {
   "cell_type": "code",
   "execution_count": null,
   "metadata": {
    "vscode": {
     "languageId": "sql"
    }
   },
   "outputs": [],
   "source": [
    "SELECT COUNT(*)\n",
    "FROM (SELECT a.name\n",
    "       FROM orders o\n",
    "       JOIN accounts a\n",
    "       ON a.id = o.account_id\n",
    "       GROUP BY 1\n",
    "       HAVING SUM(o.total) > (SELECT total \n",
    "                   FROM (SELECT a.name act_name, SUM(o.standard_qty) tot_std, SUM(o.total) total\n",
    "                         FROM accounts a\n",
    "                         JOIN orders o\n",
    "                         ON o.account_id = a.id\n",
    "                         GROUP BY 1\n",
    "                         ORDER BY 2 DESC\n",
    "                         LIMIT 1) inner_tab)\n",
    "             ) counter_tab;"
   ]
  },
  {
   "cell_type": "markdown",
   "metadata": {},
   "source": [
    "4. For the customer that spent the most (in total over their lifetime as a customer) total_amt_usd, how many web_events did they have for each channel?\n"
   ]
  },
  {
   "cell_type": "code",
   "execution_count": null,
   "metadata": {
    "vscode": {
     "languageId": "sql"
    }
   },
   "outputs": [],
   "source": [
    "SELECT a.name, w.channel, COUNT(*)\n",
    "FROM accounts a\n",
    "JOIN web_events w\n",
    "ON a.id = w.account_id AND a.id =  (SELECT id\n",
    "                     FROM (SELECT a.id, a.name, SUM(o.total_amt_usd) tot_spent\n",
    "                           FROM orders o\n",
    "                           JOIN accounts a\n",
    "                           ON a.id = o.account_id\n",
    "                           GROUP BY a.id, a.name\n",
    "                           ORDER BY 3 DESC\n",
    "                           LIMIT 1) inner_table)\n",
    "GROUP BY 1, 2\n",
    "ORDER BY 3 DESC;"
   ]
  },
  {
   "cell_type": "markdown",
   "metadata": {},
   "source": [
    "5. What is the lifetime average amount spent in terms of total_amt_usd for the top 10 total spending accounts?\n"
   ]
  },
  {
   "cell_type": "markdown",
   "metadata": {},
   "source": [
    "SELECT AVG(tot_spent)\n",
    "FROM (SELECT a.id, a.name, SUM(o.total_amt_usd) tot_spent\n",
    "      FROM orders o\n",
    "      JOIN accounts a\n",
    "      ON a.id = o.account_id\n",
    "      GROUP BY a.id, a.name\n",
    "      ORDER BY 3 DESC\n",
    "       LIMIT 10) temp;"
   ]
  },
  {
   "cell_type": "markdown",
   "metadata": {},
   "source": [
    "\n",
    "\n",
    "6. What is the lifetime average amount spent in terms of total_amt_usd, including only the companies that spent more per order, on average, than the average of all orders.\n",
    "\n"
   ]
  },
  {
   "cell_type": "code",
   "execution_count": null,
   "metadata": {
    "vscode": {
     "languageId": "sql"
    }
   },
   "outputs": [],
   "source": [
    "SELECT AVG(avg_amt)\n",
    "FROM (SELECT o.account_id, AVG(o.total_amt_usd) avg_amt\n",
    "    FROM orders o\n",
    "    GROUP BY 1\n",
    "    HAVING AVG(o.total_amt_usd) > (SELECT AVG(o.total_amt_usd) avg_all\n",
    "                                   FROM orders o)) temp_table;"
   ]
  }
 ],
 "metadata": {
  "language_info": {
   "name": "python"
  },
  "orig_nbformat": 4
 },
 "nbformat": 4,
 "nbformat_minor": 2
}
