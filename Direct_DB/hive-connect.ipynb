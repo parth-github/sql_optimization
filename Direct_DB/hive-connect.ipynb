{
 "cells": [
  {
   "cell_type": "code",
   "execution_count": 2,
   "metadata": {},
   "outputs": [
    {
     "name": "stdout",
     "output_type": "stream",
     "text": [
      "'beeline' is not recognized as an internal or external command,\n",
      "operable program or batch file.\n",
      "error\n"
     ]
    }
   ],
   "source": [
    "#python 3\n",
    "#beeline to be installed in developer machine\n",
    "\n",
    "import subprocess\n",
    "\n",
    "cmd = 'beeline -u jdbc:hive2://192.168.217.128:10000 scott tiger\" -e \"SELECT * FROM products.items_orc_1 LIMIT 1;\"'\n",
    "\n",
    "status, output = subprocess.getstatusoutput(cmd)\n",
    "print(output)\n",
    "\n",
    "if status == 0:\n",
    "   print(output)\n",
    "else:\n",
    "   print(\"error\")"
   ]
  },
  {
   "cell_type": "code",
   "execution_count": 6,
   "metadata": {},
   "outputs": [
    {
     "ename": "ModuleNotFoundError",
     "evalue": "No module named 'pyhs2'",
     "output_type": "error",
     "traceback": [
      "\u001b[1;31m---------------------------------------------------------------------------\u001b[0m",
      "\u001b[1;31mModuleNotFoundError\u001b[0m                       Traceback (most recent call last)",
      "Cell \u001b[1;32mIn[6], line 12\u001b[0m\n\u001b[0;32m      1\u001b[0m \u001b[39m### HiveServer2 and beeline prompt\u001b[39;00m\n\u001b[0;32m      2\u001b[0m \u001b[39m############\u001b[39;00m\n\u001b[0;32m      3\u001b[0m \u001b[39m# Starting HiveServer2\u001b[39;00m\n\u001b[1;32m   (...)\u001b[0m\n\u001b[0;32m     10\u001b[0m \u001b[39m#$ beeline -u jdbc:hive2://192.168.1.1:10000 scott tiger\u001b[39;00m\n\u001b[0;32m     11\u001b[0m \u001b[39m#% pip install pyhs2\u001b[39;00m\n\u001b[1;32m---> 12\u001b[0m \u001b[39mimport\u001b[39;00m \u001b[39mpyhs2\u001b[39;00m\n\u001b[0;32m     14\u001b[0m \u001b[39mwith\u001b[39;00m pyhs2\u001b[39m.\u001b[39mconnect(host\u001b[39m=\u001b[39m\u001b[39m'\u001b[39m\u001b[39m192.168.217.128\u001b[39m\u001b[39m'\u001b[39m,\n\u001b[0;32m     15\u001b[0m                port\u001b[39m=\u001b[39m\u001b[39m10000\u001b[39m,\n\u001b[0;32m     16\u001b[0m                authMechanism\u001b[39m=\u001b[39m\u001b[39m\"\u001b[39m\u001b[39mPLAIN\u001b[39m\u001b[39m\"\u001b[39m,\n\u001b[0;32m     17\u001b[0m                user\u001b[39m=\u001b[39m\u001b[39m'\u001b[39m\u001b[39mscott\u001b[39m\u001b[39m'\u001b[39m,\n\u001b[0;32m     18\u001b[0m                password\u001b[39m=\u001b[39m\u001b[39m'\u001b[39m\u001b[39mtiger\u001b[39m\u001b[39m'\u001b[39m,\n\u001b[0;32m     19\u001b[0m                database\u001b[39m=\u001b[39m\u001b[39m'\u001b[39m\u001b[39mdefault\u001b[39m\u001b[39m'\u001b[39m) \u001b[39mas\u001b[39;00m conn:\n\u001b[0;32m     20\u001b[0m     \u001b[39mwith\u001b[39;00m conn\u001b[39m.\u001b[39mcursor() \u001b[39mas\u001b[39;00m cur:\n\u001b[0;32m     21\u001b[0m         \u001b[39m#Show databases\u001b[39;00m\n",
      "\u001b[1;31mModuleNotFoundError\u001b[0m: No module named 'pyhs2'"
     ]
    }
   ],
   "source": [
    "### HiveServer2 and beeline prompt\n",
    "############\n",
    "# Starting HiveServer2\n",
    "############\n",
    "# hive.server2.enable.doAs to false on $HIVE_HOME/conf/hive-site.xml -- for anonymous access\n",
    "# $HIVE_HOME/bin/hiveserver2\n",
    "# $nohup $HIVE_HOME/bin/hive --service hiveserver2 & \n",
    "\n",
    "##########\n",
    "#$ beeline -u jdbc:hive2://192.168.1.1:10000 scott tiger\n",
    "\n",
    "#Python2\n",
    "#% pip install pyhs2\n",
    "import pyhs2\n",
    "\n",
    "with pyhs2.connect(host='192.168.217.128',\n",
    "               port=10000,\n",
    "               authMechanism=\"PLAIN\",\n",
    "               user='scott',\n",
    "               password='tiger',\n",
    "               database='default') as conn:\n",
    "    with conn.cursor() as cur:\n",
    "        #Show databases\n",
    "        print(cur.getDatabases())\n",
    "\n",
    "        #Execute query\n",
    "        cur.execute(\"select * from table\")\n",
    "\n",
    "        #Return column info from query\n",
    "        print(cur.getSchema())\n",
    "\n",
    "        #Fetch table results\n",
    "        for i in cur.fetch():\n",
    "            print(i)"
   ]
  }
 ],
 "metadata": {
  "kernelspec": {
   "display_name": ".venv",
   "language": "python",
   "name": "python3"
  },
  "language_info": {
   "codemirror_mode": {
    "name": "ipython",
    "version": 3
   },
   "file_extension": ".py",
   "mimetype": "text/x-python",
   "name": "python",
   "nbconvert_exporter": "python",
   "pygments_lexer": "ipython3",
   "version": "3.10.2"
  },
  "orig_nbformat": 4
 },
 "nbformat": 4,
 "nbformat_minor": 2
}
