{
 "cells": [
  {
   "cell_type": "code",
   "execution_count": null,
   "metadata": {},
   "outputs": [],
   "source": [
    "%pip install hivejdbc\n",
    "\n",
    "# Download driver from https://repo1.maven.org/maven2/org/apache/hive/hive-jdbc/2.3.9/hive-jdbc-2.3.9-standalone.jar\n",
    "# Place it in the current directory\n",
    "\n",
    "### HiveServer2 and beeline prompt\n",
    "############\n",
    "# Starting HiveServer2\n",
    "############\n",
    "# hive.server2.enable.doAs to false on $HIVE_HOME/conf/hive-site.xml -- for anonymous access\n",
    "# $HIVE_HOME/bin/hiveserver2\n",
    "# $nohup $HIVE_HOME/bin/hive --service hiveserver2 & \n",
    "\n",
    "##########\n",
    "#$ beeline -u jdbc:hive2://192.168.1.1:10000 scott tiger"
   ]
  },
  {
   "cell_type": "code",
   "execution_count": 9,
   "metadata": {},
   "outputs": [],
   "source": [
    "from hivejdbc import connect\n",
    "\n",
    "conn = connect(host='192.168.217.128', \n",
    "               database='default', \n",
    "               port=10000, \n",
    "               user='scott', \n",
    "               password='tiger',\n",
    "               driver='hive-jdbc-2.3.9.jar')\n"
   ]
  },
  {
   "cell_type": "code",
   "execution_count": 10,
   "metadata": {},
   "outputs": [
    {
     "name": "stdout",
     "output_type": "stream",
     "text": [
      "[('tv_vu', ' Vu 56 Inch', '600'), ('washingmachine_samsung', ' Samsung Swift', '400'), ('camera_canon', ' Canon 570x', '1000'), ('iphone7', ' iPhone 7', '950')]\n"
     ]
    }
   ],
   "source": [
    "with conn.cursor() as cursor:\n",
    "    cursor.execute('select * from products.items_orc_1')\n",
    "    rows = cursor.fetchall()\n",
    "\n",
    "print(rows)"
   ]
  },
  {
   "cell_type": "code",
   "execution_count": 5,
   "metadata": {},
   "outputs": [
    {
     "name": "stdout",
     "output_type": "stream",
     "text": [
      "tv_vu  Vu 56 Inch\n",
      "washingmachine_samsung  Samsung Swift\n",
      "camera_canon  Canon 570x\n",
      "iphone7  iPhone 7\n"
     ]
    }
   ],
   "source": [
    "cursor = conn.cursor()\n",
    "cursor.execute('select * from products.items_orc_1')\n",
    "for row in cursor:\n",
    "    print(row[0], row[1])\n",
    "cursor.close()"
   ]
  },
  {
   "cell_type": "code",
   "execution_count": 8,
   "metadata": {},
   "outputs": [
    {
     "name": "stdout",
     "output_type": "stream",
     "text": [
      "[]\n"
     ]
    }
   ],
   "source": [
    "cursor = conn.cursor()\n",
    "cursor.execute('select * from products.items_orc_1')\n",
    "cursor.fetchone() # fetch first row or None\n",
    "cursor.fetchmany(5) # fetch next 5 rows\n",
    "print(cursor.fetchall()) # fetch remaining rows or empty list\n",
    "cursor.close()"
   ]
  },
  {
   "cell_type": "code",
   "execution_count": 12,
   "metadata": {},
   "outputs": [
    {
     "name": "stdout",
     "output_type": "stream",
     "text": [
      "('tv_vu', ' Vu 56 Inch', '600')\n"
     ]
    }
   ],
   "source": [
    "cursor = conn.cursor()\n",
    "cursor.execute('select * from products.items_orc_1')\n",
    "print(cursor.fetchone()) \n",
    "cursor.close()"
   ]
  },
  {
   "cell_type": "code",
   "execution_count": 16,
   "metadata": {},
   "outputs": [],
   "source": [
    "import pandas as pd\n",
    "df = pd.DataFrame(rows)"
   ]
  },
  {
   "cell_type": "code",
   "execution_count": 17,
   "metadata": {},
   "outputs": [
    {
     "data": {
      "text/plain": [
       "(4, 3)"
      ]
     },
     "execution_count": 17,
     "metadata": {},
     "output_type": "execute_result"
    }
   ],
   "source": [
    "df.shape"
   ]
  },
  {
   "cell_type": "code",
   "execution_count": 18,
   "metadata": {},
   "outputs": [
    {
     "name": "stdout",
     "output_type": "stream",
     "text": [
      "                        0               1     2\n",
      "0                   tv_vu      Vu 56 Inch   600\n",
      "1  washingmachine_samsung   Samsung Swift   400\n",
      "2            camera_canon      Canon 570x  1000\n",
      "3                 iphone7        iPhone 7   950\n"
     ]
    }
   ],
   "source": [
    "print(df)"
   ]
  },
  {
   "cell_type": "code",
   "execution_count": null,
   "metadata": {},
   "outputs": [],
   "source": []
  }
 ],
 "metadata": {
  "kernelspec": {
   "display_name": ".venv",
   "language": "python",
   "name": "python3"
  },
  "language_info": {
   "codemirror_mode": {
    "name": "ipython",
    "version": 3
   },
   "file_extension": ".py",
   "mimetype": "text/x-python",
   "name": "python",
   "nbconvert_exporter": "python",
   "pygments_lexer": "ipython3",
   "version": "3.10.2"
  },
  "orig_nbformat": 4
 },
 "nbformat": 4,
 "nbformat_minor": 2
}
