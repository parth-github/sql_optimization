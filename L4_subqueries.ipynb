{
 "cells": [
  {
   "cell_type": "markdown",
   "metadata": {},
   "source": [
    "# Subquery formation\n",
    "\n",
    "## To find the number of events that occur for each day of each channel"
   ]
  },
  {
   "cell_type": "code",
   "execution_count": null,
   "metadata": {
    "vscode": {
     "languageId": "sql"
    }
   },
   "outputs": [],
   "source": [
    "elect channel, date_trunc('day', occurred_at), count(*) num\n",
    "from web_events w\n",
    "group by 1,2\n",
    "group by 1"
   ]
  },
  {
   "cell_type": "markdown",
   "metadata": {},
   "source": [
    "create a subquery that simply provides all of the data from 1st query"
   ]
  },
  {
   "cell_type": "code",
   "execution_count": null,
   "metadata": {
    "vscode": {
     "languageId": "sql"
    }
   },
   "outputs": [],
   "source": [
    "select *\n",
    "from\n",
    "(select channel, date_trunc('day', occurred_at), count(*) num\n",
    "from web_events w\n",
    "group by 1,2) sub\n"
   ]
  },
  {
   "cell_type": "markdown",
   "metadata": {},
   "source": [
    "## To find the average number of events for each channel."
   ]
  },
  {
   "cell_type": "code",
   "execution_count": null,
   "metadata": {
    "vscode": {
     "languageId": "sql"
    }
   },
   "outputs": [],
   "source": [
    "select channel, avg(num)\n",
    "from\n",
    "(select channel, date_trunc('day', occurred_at), count(*) num\n",
    "from web_events w\n",
    "group by 1,2) sub\n",
    "group by 1"
   ]
  },
  {
   "cell_type": "markdown",
   "metadata": {},
   "source": [
    "## On which day-channel pair did the most events occur."
   ]
  },
  {
   "cell_type": "code",
   "execution_count": null,
   "metadata": {
    "vscode": {
     "languageId": "sql"
    }
   },
   "outputs": [],
   "source": [
    "select channel, day_occurred, avg(num)\n",
    "from \n",
    "(select channel, date_trunc('day', occurred_at) day_occurred, count(*) num\n",
    "from web_events w\n",
    "group by 1,2) x\n",
    "group by 1, 2\n",
    "order by 3 desc;"
   ]
  },
  {
   "cell_type": "markdown",
   "metadata": {},
   "source": [
    "The original  query goes in the FROM statement\n",
    "\n",
    "An * is used in the SELECT statement to pull all of the data from the originial query.\n",
    "\n",
    "You must use an ALIAS for the table you next within the outer query."
   ]
  },
  {
   "cell_type": "markdown",
   "metadata": {},
   "source": [
    "# Subquery Formatting"
   ]
  },
  {
   "cell_type": "markdown",
   "metadata": {},
   "source": [
    "## Well Formatted Query\n",
    "\n",
    "Now for a well formatted example, you can see the table we are pulling from much easier than in the previous queries."
   ]
  },
  {
   "cell_type": "code",
   "execution_count": null,
   "metadata": {
    "vscode": {
     "languageId": "sql"
    }
   },
   "outputs": [],
   "source": [
    "SELECT *\n",
    "FROM (SELECT DATE_TRUNC('day',occurred_at) AS day,\n",
    "                channel, COUNT(*) as events\n",
    "      FROM web_events \n",
    "      GROUP BY 1,2\n",
    "      ORDER BY 3 DESC) sub;"
   ]
  },
  {
   "cell_type": "markdown",
   "metadata": {},
   "source": [
    "Additionally, if we have a GROUP BY, ORDER BY, WHERE, HAVING, or any other statement following our subquery, we would then indent it at the same level as our outer query.\n",
    "\n",
    "The query below is similar to the above, but it is applying additional statements to the outer query, so you can see there are GROUP BY and ORDER BY statements used on the output are not tabbed. The inner query GROUP BY and ORDER BY statements are indented to match the inner table."
   ]
  },
  {
   "cell_type": "code",
   "execution_count": null,
   "metadata": {
    "vscode": {
     "languageId": "sql"
    }
   },
   "outputs": [],
   "source": [
    "SELECT *\n",
    "FROM (SELECT DATE_TRUNC('day',occurred_at) AS day,\n",
    "                channel, COUNT(*) as events\n",
    "      FROM web_events \n",
    "      GROUP BY 1,2\n",
    "      ORDER BY 3 DESC) sub\n",
    "GROUP BY day, channel, events\n",
    "ORDER BY 2 DESC;"
   ]
  }
 ],
 "metadata": {
  "language_info": {
   "name": "python"
  },
  "orig_nbformat": 4
 },
 "nbformat": 4,
 "nbformat_minor": 2
}
